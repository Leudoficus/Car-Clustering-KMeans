{
  "nbformat": 4,
  "nbformat_minor": 0,
  "metadata": {
    "colab": {
      "name": "K-Means_Clustering_Car_Features_and_MSRP_by_leudoficus.ipynb",
      "provenance": [],
      "collapsed_sections": [],
      "toc_visible": true
    },
    "kernelspec": {
      "name": "python3",
      "display_name": "Python 3"
    },
    "language_info": {
      "name": "python"
    }
  },
  "cells": [
    {
      "cell_type": "markdown",
      "source": [
        "#**K-Means Clustering Car Features and MSRP**\n",
        "\n",
        "pada portofolio ini saya akan melakukan clustering pada dataset dari Car-features-and-MSRP menggunakan metode K-Means.\n",
        "portofolio ini belum sempurna, mohon kritik dan saran supaya saya bisa menyempurnakan portofolio ini. "
      ],
      "metadata": {
        "id": "cb135ZQuUW7a"
      }
    },
    {
      "cell_type": "markdown",
      "source": [
        "#**Import Libraries**"
      ],
      "metadata": {
        "id": "oKNCpKSoKvx3"
      }
    },
    {
      "cell_type": "code",
      "execution_count": 352,
      "metadata": {
        "id": "56UCTL5tFO9M"
      },
      "outputs": [],
      "source": [
        "import warnings\n",
        "warnings.filterwarnings('ignore')\n",
        "\n",
        "import numpy as np\n",
        "import pandas as pd\n",
        "import seaborn as sns\n",
        "import matplotlib.pyplot as plt\n",
        "%matplotlib inline\n",
        "from mpl_toolkits.mplot3d import Axes3D\n",
        "from sklearn.cluster import KMeans\n",
        "from sklearn.decomposition import PCA \n",
        "from sklearn.metrics import silhouette_score\n",
        "from sklearn.preprocessing import StandardScaler, MinMaxScaler\n",
        "from scipy import stats"
      ]
    },
    {
      "cell_type": "markdown",
      "source": [
        "#**Import Datasets**"
      ],
      "metadata": {
        "id": "EcputFBYLJUL"
      }
    },
    {
      "cell_type": "markdown",
      "source": [
        "pada bagian ini, saya melakukan import dataset Car Features and MSRP dari website kaggle : https://www.kaggle.com/datasets/CooperUnion/cardataset.\n",
        "setelah di import, dilakukan beberapa data sample untuk sedikit mereview bagaimana 'bentuk' dan isi dari dataset yang ada."
      ],
      "metadata": {
        "id": "7X1gCVK9WuYb"
      }
    },
    {
      "cell_type": "code",
      "source": [
        "df = pd.read_csv('Car_Features_and_MSRP.csv')"
      ],
      "metadata": {
        "id": "tL8IopkCLNfk"
      },
      "execution_count": 353,
      "outputs": []
    },
    {
      "cell_type": "markdown",
      "source": [
        "**Data Sample**"
      ],
      "metadata": {
        "id": "08jZHDRnMcER"
      }
    },
    {
      "cell_type": "code",
      "source": [
        "# sample 5 rows of the data\n",
        "df.sample(5)"
      ],
      "metadata": {
        "colab": {
          "base_uri": "https://localhost:8080/",
          "height": 389
        },
        "id": "rrwXpkpDOgef",
        "outputId": "efadd128-68d8-4a7d-9e2b-2237817bd708"
      },
      "execution_count": 354,
      "outputs": [
        {
          "output_type": "execute_result",
          "data": {
            "text/plain": [
              "        Make          Model  Year             Engine Fuel Type  Engine HP  \\\n",
              "1327  Suzuki          Aerio  2007             regular unleaded      155.0   \n",
              "5493   Dodge  Grand Caravan  2016     flex-fuel (unleaded/E85)      283.0   \n",
              "5756   Honda           HR-V  2016             regular unleaded      141.0   \n",
              "1392     BMW      ALPINA B7  2014  premium unleaded (required)      540.0   \n",
              "4233  Suzuki         Esteem  2001             regular unleaded      122.0   \n",
              "\n",
              "      Engine Cylinders Transmission Type      Driven_Wheels  Number of Doors  \\\n",
              "1327               4.0         AUTOMATIC    all wheel drive              4.0   \n",
              "5493               6.0         AUTOMATIC  front wheel drive              4.0   \n",
              "5756               4.0         AUTOMATIC    all wheel drive              4.0   \n",
              "1392               8.0         AUTOMATIC   rear wheel drive              4.0   \n",
              "4233               4.0         AUTOMATIC  front wheel drive              4.0   \n",
              "\n",
              "                            Market Category Vehicle Size      Vehicle Style  \\\n",
              "1327                                    NaN      Compact              Sedan   \n",
              "5493                              Flex Fuel      Midsize  Passenger Minivan   \n",
              "5756                              Crossover      Compact            4dr SUV   \n",
              "1392  Factory Tuner,Luxury,High-Performance        Large              Sedan   \n",
              "4233                                    NaN      Compact              Wagon   \n",
              "\n",
              "      highway MPG  city mpg  Popularity    MSRP  \n",
              "1327           26        21         481   16299  \n",
              "5493           25        17        1851   25095  \n",
              "5756           32        27        2202   21315  \n",
              "1392           25        16        3916  128300  \n",
              "4233           30        26         481   14699  "
            ],
            "text/html": [
              "\n",
              "  <div id=\"df-5aee66fd-9e20-4fb6-a316-5f1c856c4f2b\">\n",
              "    <div class=\"colab-df-container\">\n",
              "      <div>\n",
              "<style scoped>\n",
              "    .dataframe tbody tr th:only-of-type {\n",
              "        vertical-align: middle;\n",
              "    }\n",
              "\n",
              "    .dataframe tbody tr th {\n",
              "        vertical-align: top;\n",
              "    }\n",
              "\n",
              "    .dataframe thead th {\n",
              "        text-align: right;\n",
              "    }\n",
              "</style>\n",
              "<table border=\"1\" class=\"dataframe\">\n",
              "  <thead>\n",
              "    <tr style=\"text-align: right;\">\n",
              "      <th></th>\n",
              "      <th>Make</th>\n",
              "      <th>Model</th>\n",
              "      <th>Year</th>\n",
              "      <th>Engine Fuel Type</th>\n",
              "      <th>Engine HP</th>\n",
              "      <th>Engine Cylinders</th>\n",
              "      <th>Transmission Type</th>\n",
              "      <th>Driven_Wheels</th>\n",
              "      <th>Number of Doors</th>\n",
              "      <th>Market Category</th>\n",
              "      <th>Vehicle Size</th>\n",
              "      <th>Vehicle Style</th>\n",
              "      <th>highway MPG</th>\n",
              "      <th>city mpg</th>\n",
              "      <th>Popularity</th>\n",
              "      <th>MSRP</th>\n",
              "    </tr>\n",
              "  </thead>\n",
              "  <tbody>\n",
              "    <tr>\n",
              "      <th>1327</th>\n",
              "      <td>Suzuki</td>\n",
              "      <td>Aerio</td>\n",
              "      <td>2007</td>\n",
              "      <td>regular unleaded</td>\n",
              "      <td>155.0</td>\n",
              "      <td>4.0</td>\n",
              "      <td>AUTOMATIC</td>\n",
              "      <td>all wheel drive</td>\n",
              "      <td>4.0</td>\n",
              "      <td>NaN</td>\n",
              "      <td>Compact</td>\n",
              "      <td>Sedan</td>\n",
              "      <td>26</td>\n",
              "      <td>21</td>\n",
              "      <td>481</td>\n",
              "      <td>16299</td>\n",
              "    </tr>\n",
              "    <tr>\n",
              "      <th>5493</th>\n",
              "      <td>Dodge</td>\n",
              "      <td>Grand Caravan</td>\n",
              "      <td>2016</td>\n",
              "      <td>flex-fuel (unleaded/E85)</td>\n",
              "      <td>283.0</td>\n",
              "      <td>6.0</td>\n",
              "      <td>AUTOMATIC</td>\n",
              "      <td>front wheel drive</td>\n",
              "      <td>4.0</td>\n",
              "      <td>Flex Fuel</td>\n",
              "      <td>Midsize</td>\n",
              "      <td>Passenger Minivan</td>\n",
              "      <td>25</td>\n",
              "      <td>17</td>\n",
              "      <td>1851</td>\n",
              "      <td>25095</td>\n",
              "    </tr>\n",
              "    <tr>\n",
              "      <th>5756</th>\n",
              "      <td>Honda</td>\n",
              "      <td>HR-V</td>\n",
              "      <td>2016</td>\n",
              "      <td>regular unleaded</td>\n",
              "      <td>141.0</td>\n",
              "      <td>4.0</td>\n",
              "      <td>AUTOMATIC</td>\n",
              "      <td>all wheel drive</td>\n",
              "      <td>4.0</td>\n",
              "      <td>Crossover</td>\n",
              "      <td>Compact</td>\n",
              "      <td>4dr SUV</td>\n",
              "      <td>32</td>\n",
              "      <td>27</td>\n",
              "      <td>2202</td>\n",
              "      <td>21315</td>\n",
              "    </tr>\n",
              "    <tr>\n",
              "      <th>1392</th>\n",
              "      <td>BMW</td>\n",
              "      <td>ALPINA B7</td>\n",
              "      <td>2014</td>\n",
              "      <td>premium unleaded (required)</td>\n",
              "      <td>540.0</td>\n",
              "      <td>8.0</td>\n",
              "      <td>AUTOMATIC</td>\n",
              "      <td>rear wheel drive</td>\n",
              "      <td>4.0</td>\n",
              "      <td>Factory Tuner,Luxury,High-Performance</td>\n",
              "      <td>Large</td>\n",
              "      <td>Sedan</td>\n",
              "      <td>25</td>\n",
              "      <td>16</td>\n",
              "      <td>3916</td>\n",
              "      <td>128300</td>\n",
              "    </tr>\n",
              "    <tr>\n",
              "      <th>4233</th>\n",
              "      <td>Suzuki</td>\n",
              "      <td>Esteem</td>\n",
              "      <td>2001</td>\n",
              "      <td>regular unleaded</td>\n",
              "      <td>122.0</td>\n",
              "      <td>4.0</td>\n",
              "      <td>AUTOMATIC</td>\n",
              "      <td>front wheel drive</td>\n",
              "      <td>4.0</td>\n",
              "      <td>NaN</td>\n",
              "      <td>Compact</td>\n",
              "      <td>Wagon</td>\n",
              "      <td>30</td>\n",
              "      <td>26</td>\n",
              "      <td>481</td>\n",
              "      <td>14699</td>\n",
              "    </tr>\n",
              "  </tbody>\n",
              "</table>\n",
              "</div>\n",
              "      <button class=\"colab-df-convert\" onclick=\"convertToInteractive('df-5aee66fd-9e20-4fb6-a316-5f1c856c4f2b')\"\n",
              "              title=\"Convert this dataframe to an interactive table.\"\n",
              "              style=\"display:none;\">\n",
              "        \n",
              "  <svg xmlns=\"http://www.w3.org/2000/svg\" height=\"24px\"viewBox=\"0 0 24 24\"\n",
              "       width=\"24px\">\n",
              "    <path d=\"M0 0h24v24H0V0z\" fill=\"none\"/>\n",
              "    <path d=\"M18.56 5.44l.94 2.06.94-2.06 2.06-.94-2.06-.94-.94-2.06-.94 2.06-2.06.94zm-11 1L8.5 8.5l.94-2.06 2.06-.94-2.06-.94L8.5 2.5l-.94 2.06-2.06.94zm10 10l.94 2.06.94-2.06 2.06-.94-2.06-.94-.94-2.06-.94 2.06-2.06.94z\"/><path d=\"M17.41 7.96l-1.37-1.37c-.4-.4-.92-.59-1.43-.59-.52 0-1.04.2-1.43.59L10.3 9.45l-7.72 7.72c-.78.78-.78 2.05 0 2.83L4 21.41c.39.39.9.59 1.41.59.51 0 1.02-.2 1.41-.59l7.78-7.78 2.81-2.81c.8-.78.8-2.07 0-2.86zM5.41 20L4 18.59l7.72-7.72 1.47 1.35L5.41 20z\"/>\n",
              "  </svg>\n",
              "      </button>\n",
              "      \n",
              "  <style>\n",
              "    .colab-df-container {\n",
              "      display:flex;\n",
              "      flex-wrap:wrap;\n",
              "      gap: 12px;\n",
              "    }\n",
              "\n",
              "    .colab-df-convert {\n",
              "      background-color: #E8F0FE;\n",
              "      border: none;\n",
              "      border-radius: 50%;\n",
              "      cursor: pointer;\n",
              "      display: none;\n",
              "      fill: #1967D2;\n",
              "      height: 32px;\n",
              "      padding: 0 0 0 0;\n",
              "      width: 32px;\n",
              "    }\n",
              "\n",
              "    .colab-df-convert:hover {\n",
              "      background-color: #E2EBFA;\n",
              "      box-shadow: 0px 1px 2px rgba(60, 64, 67, 0.3), 0px 1px 3px 1px rgba(60, 64, 67, 0.15);\n",
              "      fill: #174EA6;\n",
              "    }\n",
              "\n",
              "    [theme=dark] .colab-df-convert {\n",
              "      background-color: #3B4455;\n",
              "      fill: #D2E3FC;\n",
              "    }\n",
              "\n",
              "    [theme=dark] .colab-df-convert:hover {\n",
              "      background-color: #434B5C;\n",
              "      box-shadow: 0px 1px 3px 1px rgba(0, 0, 0, 0.15);\n",
              "      filter: drop-shadow(0px 1px 2px rgba(0, 0, 0, 0.3));\n",
              "      fill: #FFFFFF;\n",
              "    }\n",
              "  </style>\n",
              "\n",
              "      <script>\n",
              "        const buttonEl =\n",
              "          document.querySelector('#df-5aee66fd-9e20-4fb6-a316-5f1c856c4f2b button.colab-df-convert');\n",
              "        buttonEl.style.display =\n",
              "          google.colab.kernel.accessAllowed ? 'block' : 'none';\n",
              "\n",
              "        async function convertToInteractive(key) {\n",
              "          const element = document.querySelector('#df-5aee66fd-9e20-4fb6-a316-5f1c856c4f2b');\n",
              "          const dataTable =\n",
              "            await google.colab.kernel.invokeFunction('convertToInteractive',\n",
              "                                                     [key], {});\n",
              "          if (!dataTable) return;\n",
              "\n",
              "          const docLinkHtml = 'Like what you see? Visit the ' +\n",
              "            '<a target=\"_blank\" href=https://colab.research.google.com/notebooks/data_table.ipynb>data table notebook</a>'\n",
              "            + ' to learn more about interactive tables.';\n",
              "          element.innerHTML = '';\n",
              "          dataTable['output_type'] = 'display_data';\n",
              "          await google.colab.output.renderOutput(dataTable, element);\n",
              "          const docLink = document.createElement('div');\n",
              "          docLink.innerHTML = docLinkHtml;\n",
              "          element.appendChild(docLink);\n",
              "        }\n",
              "      </script>\n",
              "    </div>\n",
              "  </div>\n",
              "  "
            ]
          },
          "metadata": {},
          "execution_count": 354
        }
      ]
    },
    {
      "cell_type": "markdown",
      "source": [
        "##**General Information & Missing Values**"
      ],
      "metadata": {
        "id": "1YK7Pz-MO-Os"
      }
    },
    {
      "cell_type": "markdown",
      "source": [
        "Setelah mereview sekilas dataset diawal, dirasa ada beberapa fitur yang tidak terlalu bermanfaat, untuk itu fitur tersebut akan saya hilangkan dulu."
      ],
      "metadata": {
        "id": "aczEJZuga0Ly"
      }
    },
    {
      "cell_type": "code",
      "source": [
        "# drop fitur tidak terpakai :\n",
        "\n",
        "df = df.drop(['Engine Fuel Type','Engine Cylinders','Market Category','highway MPG','Popularity'],axis = 1)"
      ],
      "metadata": {
        "id": "oFtmsl-Wa-_I"
      },
      "execution_count": 355,
      "outputs": []
    },
    {
      "cell_type": "code",
      "source": [
        "df.info()"
      ],
      "metadata": {
        "colab": {
          "base_uri": "https://localhost:8080/"
        },
        "id": "4m5szIFybb5K",
        "outputId": "0c3ab619-2d87-4b32-a76f-94d461e989cc"
      },
      "execution_count": 356,
      "outputs": [
        {
          "output_type": "stream",
          "name": "stdout",
          "text": [
            "<class 'pandas.core.frame.DataFrame'>\n",
            "RangeIndex: 11914 entries, 0 to 11913\n",
            "Data columns (total 11 columns):\n",
            " #   Column             Non-Null Count  Dtype  \n",
            "---  ------             --------------  -----  \n",
            " 0   Make               11914 non-null  object \n",
            " 1   Model              11914 non-null  object \n",
            " 2   Year               11914 non-null  int64  \n",
            " 3   Engine HP          11845 non-null  float64\n",
            " 4   Transmission Type  11914 non-null  object \n",
            " 5   Driven_Wheels      11914 non-null  object \n",
            " 6   Number of Doors    11908 non-null  float64\n",
            " 7   Vehicle Size       11914 non-null  object \n",
            " 8   Vehicle Style      11914 non-null  object \n",
            " 9   city mpg           11914 non-null  int64  \n",
            " 10  MSRP               11914 non-null  int64  \n",
            "dtypes: float64(2), int64(3), object(6)\n",
            "memory usage: 1024.0+ KB\n"
          ]
        }
      ]
    },
    {
      "cell_type": "markdown",
      "source": [
        "bagian selanjutnya yang cukup penting untuk di observasi diawal adalah proses data cleaning yang didalamnya mencari missing value, mencari duplicate rows & columns, jika terdapat missing value & duplicate, akan dilakukan treatment seperlunya pada dataset."
      ],
      "metadata": {
        "id": "7EgTZneCXt_-"
      }
    },
    {
      "cell_type": "code",
      "source": [
        "df.isnull().sum()"
      ],
      "metadata": {
        "colab": {
          "base_uri": "https://localhost:8080/"
        },
        "id": "oYgZputGnixl",
        "outputId": "88850672-fa11-483b-ff92-747edab9c6fc"
      },
      "execution_count": 357,
      "outputs": [
        {
          "output_type": "execute_result",
          "data": {
            "text/plain": [
              "Make                  0\n",
              "Model                 0\n",
              "Year                  0\n",
              "Engine HP            69\n",
              "Transmission Type     0\n",
              "Driven_Wheels         0\n",
              "Number of Doors       6\n",
              "Vehicle Size          0\n",
              "Vehicle Style         0\n",
              "city mpg              0\n",
              "MSRP                  0\n",
              "dtype: int64"
            ]
          },
          "metadata": {},
          "execution_count": 357
        }
      ]
    },
    {
      "cell_type": "code",
      "source": [
        "(100.00 * df.isnull().sum()) / df.shape[0]"
      ],
      "metadata": {
        "id": "T2B_JfpQoHAH",
        "colab": {
          "base_uri": "https://localhost:8080/"
        },
        "outputId": "31dc6d3f-9df5-45a9-88a0-5f5a9112a080"
      },
      "execution_count": 358,
      "outputs": [
        {
          "output_type": "execute_result",
          "data": {
            "text/plain": [
              "Make                 0.000000\n",
              "Model                0.000000\n",
              "Year                 0.000000\n",
              "Engine HP            0.579151\n",
              "Transmission Type    0.000000\n",
              "Driven_Wheels        0.000000\n",
              "Number of Doors      0.050361\n",
              "Vehicle Size         0.000000\n",
              "Vehicle Style        0.000000\n",
              "city mpg             0.000000\n",
              "MSRP                 0.000000\n",
              "dtype: float64"
            ]
          },
          "metadata": {},
          "execution_count": 358
        }
      ]
    },
    {
      "cell_type": "markdown",
      "source": [
        "terdapat missing value pada fitur Engine HP, Number of Doors. untuk fitur tersebut akan di drop rows. "
      ],
      "metadata": {
        "id": "ltWHbFB76hhG"
      }
    },
    {
      "cell_type": "code",
      "source": [
        "df = df.dropna(subset=['Engine HP','Number of Doors'])"
      ],
      "metadata": {
        "id": "sIlVuPIy-AgB"
      },
      "execution_count": 359,
      "outputs": []
    },
    {
      "cell_type": "code",
      "source": [
        "df.isnull().sum()"
      ],
      "metadata": {
        "colab": {
          "base_uri": "https://localhost:8080/"
        },
        "id": "DHs7o7h0E40A",
        "outputId": "65fd1169-b710-4ca0-8a9f-ada016901f43"
      },
      "execution_count": 360,
      "outputs": [
        {
          "output_type": "execute_result",
          "data": {
            "text/plain": [
              "Make                 0\n",
              "Model                0\n",
              "Year                 0\n",
              "Engine HP            0\n",
              "Transmission Type    0\n",
              "Driven_Wheels        0\n",
              "Number of Doors      0\n",
              "Vehicle Size         0\n",
              "Vehicle Style        0\n",
              "city mpg             0\n",
              "MSRP                 0\n",
              "dtype: int64"
            ]
          },
          "metadata": {},
          "execution_count": 360
        }
      ]
    },
    {
      "cell_type": "code",
      "source": [
        "df.info()"
      ],
      "metadata": {
        "colab": {
          "base_uri": "https://localhost:8080/"
        },
        "id": "SZVNza5_W8um",
        "outputId": "39ed4fd9-b739-496a-f2ca-aafc540c819b"
      },
      "execution_count": 361,
      "outputs": [
        {
          "output_type": "stream",
          "name": "stdout",
          "text": [
            "<class 'pandas.core.frame.DataFrame'>\n",
            "Int64Index: 11844 entries, 0 to 11913\n",
            "Data columns (total 11 columns):\n",
            " #   Column             Non-Null Count  Dtype  \n",
            "---  ------             --------------  -----  \n",
            " 0   Make               11844 non-null  object \n",
            " 1   Model              11844 non-null  object \n",
            " 2   Year               11844 non-null  int64  \n",
            " 3   Engine HP          11844 non-null  float64\n",
            " 4   Transmission Type  11844 non-null  object \n",
            " 5   Driven_Wheels      11844 non-null  object \n",
            " 6   Number of Doors    11844 non-null  float64\n",
            " 7   Vehicle Size       11844 non-null  object \n",
            " 8   Vehicle Style      11844 non-null  object \n",
            " 9   city mpg           11844 non-null  int64  \n",
            " 10  MSRP               11844 non-null  int64  \n",
            "dtypes: float64(2), int64(3), object(6)\n",
            "memory usage: 1.1+ MB\n"
          ]
        }
      ]
    },
    {
      "cell_type": "markdown",
      "source": [
        "setelah missing value di drop, jumlah rows menjadi 11844. dengan jumlah kolom 11."
      ],
      "metadata": {
        "id": "IiisWJaWA_Aj"
      }
    },
    {
      "cell_type": "markdown",
      "source": [
        "##**Duplicate Rows**"
      ],
      "metadata": {
        "id": "OX712r52_DmL"
      }
    },
    {
      "cell_type": "code",
      "source": [
        "df.duplicated().sum()"
      ],
      "metadata": {
        "colab": {
          "base_uri": "https://localhost:8080/"
        },
        "id": "GKgBZjOO_Ybd",
        "outputId": "da5dbb7c-d63c-4be5-fc9b-68f4d89e3d88"
      },
      "execution_count": 362,
      "outputs": [
        {
          "output_type": "execute_result",
          "data": {
            "text/plain": [
              "801"
            ]
          },
          "metadata": {},
          "execution_count": 362
        }
      ]
    },
    {
      "cell_type": "markdown",
      "source": [
        "setelah dicek terdeteksi adanya 801 duplicated rows. selanjutnya akan kami drop rows."
      ],
      "metadata": {
        "id": "ReViMQk_CJMB"
      }
    },
    {
      "cell_type": "code",
      "source": [
        "print(f\"Data Frame Dimension Before Duplicate Removal: {df.shape}\")\n",
        "df = df.drop_duplicates()\n",
        "print(f\"Data Frame Dimension After Duplicate Removal: {df.shape}\")"
      ],
      "metadata": {
        "colab": {
          "base_uri": "https://localhost:8080/"
        },
        "id": "nXZygCfvLjKh",
        "outputId": "222943e1-bd9d-4b74-ef50-4402f8cedd66"
      },
      "execution_count": 363,
      "outputs": [
        {
          "output_type": "stream",
          "name": "stdout",
          "text": [
            "Data Frame Dimension Before Duplicate Removal: (11844, 11)\n",
            "Data Frame Dimension After Duplicate Removal: (11043, 11)\n"
          ]
        }
      ]
    },
    {
      "cell_type": "markdown",
      "source": [
        "#**Statistical Summary**"
      ],
      "metadata": {
        "id": "saU8lN_ECodI"
      }
    },
    {
      "cell_type": "markdown",
      "source": [
        "pada bagian ini saya akan mengelompokkan kolom berdasarkan jenis datanya menjadi data categoricals & data numericals. tujuannya untuk mempermudah proses pada saat mereview statistik summary dan proeses analisis selanjutnya."
      ],
      "metadata": {
        "id": "4ZZNLuLyuo3v"
      }
    },
    {
      "cell_type": "markdown",
      "source": [
        "Sebelum melakukan statistical summary, saya akan merapihkan nama kolom supaya tidak ada spasi di nama kolom sehingga bisa mempermudah proses selanjutnya."
      ],
      "metadata": {
        "id": "w3jtwQgcy9YI"
      }
    },
    {
      "cell_type": "code",
      "source": [
        "# rename nama kolom\n",
        "df.rename(columns = {'Engine HP':'Engine_HP','Transmission Type':'Transmission_Type','Number of Doors':'Number_of_Doors',\n",
        "                     'Vehicle Size':'Vehicle_Size','Vehicle Style':'Vehicle_Style','city mpg':'city_MPG'}, inplace = True)"
      ],
      "metadata": {
        "id": "6ygJ4DH0y71C"
      },
      "execution_count": 364,
      "outputs": []
    },
    {
      "cell_type": "code",
      "source": [
        "df.info()"
      ],
      "metadata": {
        "colab": {
          "base_uri": "https://localhost:8080/"
        },
        "id": "8_5KNa4Q07px",
        "outputId": "b7e8af52-79f3-46c0-f0d1-c1999a3dbb56"
      },
      "execution_count": 365,
      "outputs": [
        {
          "output_type": "stream",
          "name": "stdout",
          "text": [
            "<class 'pandas.core.frame.DataFrame'>\n",
            "Int64Index: 11043 entries, 0 to 11913\n",
            "Data columns (total 11 columns):\n",
            " #   Column             Non-Null Count  Dtype  \n",
            "---  ------             --------------  -----  \n",
            " 0   Make               11043 non-null  object \n",
            " 1   Model              11043 non-null  object \n",
            " 2   Year               11043 non-null  int64  \n",
            " 3   Engine_HP          11043 non-null  float64\n",
            " 4   Transmission_Type  11043 non-null  object \n",
            " 5   Driven_Wheels      11043 non-null  object \n",
            " 6   Number_of_Doors    11043 non-null  float64\n",
            " 7   Vehicle_Size       11043 non-null  object \n",
            " 8   Vehicle_Style      11043 non-null  object \n",
            " 9   city_MPG           11043 non-null  int64  \n",
            " 10  MSRP               11043 non-null  int64  \n",
            "dtypes: float64(2), int64(3), object(6)\n",
            "memory usage: 1.0+ MB\n"
          ]
        }
      ]
    },
    {
      "cell_type": "code",
      "source": [
        "categoricals = ['Make', 'Model', 'Transmission_Type', 'Driven_Wheels', 'Vehicle_Size', 'Vehicle_Style']\n",
        "\n",
        "numericals = ['Year', 'Engine_HP', 'Number_of_Doors','city_MPG','MSRP']"
      ],
      "metadata": {
        "id": "aneliUEbCmt1"
      },
      "execution_count": 366,
      "outputs": []
    },
    {
      "cell_type": "markdown",
      "source": [
        "Summary data kategorik :  "
      ],
      "metadata": {
        "id": "nr06eO_q3mSV"
      }
    },
    {
      "cell_type": "code",
      "source": [
        "df[categoricals].describe()"
      ],
      "metadata": {
        "colab": {
          "base_uri": "https://localhost:8080/",
          "height": 174
        },
        "id": "H4zcr8_J3ehd",
        "outputId": "bbc46a69-9333-4c7f-831a-3c96ca38d404"
      },
      "execution_count": 367,
      "outputs": [
        {
          "output_type": "execute_result",
          "data": {
            "text/plain": [
              "             Make           Model Transmission_Type      Driven_Wheels  \\\n",
              "count       11043           11043             11043              11043   \n",
              "unique         47             910                 5                  4   \n",
              "top     Chevrolet  Silverado 1500         AUTOMATIC  front wheel drive   \n",
              "freq         1077             156              7828               4297   \n",
              "\n",
              "       Vehicle_Size Vehicle_Style  \n",
              "count         11043         11043  \n",
              "unique            3            16  \n",
              "top         Compact         Sedan  \n",
              "freq           4358          2805  "
            ],
            "text/html": [
              "\n",
              "  <div id=\"df-c62aeb6c-cf9e-4cbc-bdd8-9048b5fba43a\">\n",
              "    <div class=\"colab-df-container\">\n",
              "      <div>\n",
              "<style scoped>\n",
              "    .dataframe tbody tr th:only-of-type {\n",
              "        vertical-align: middle;\n",
              "    }\n",
              "\n",
              "    .dataframe tbody tr th {\n",
              "        vertical-align: top;\n",
              "    }\n",
              "\n",
              "    .dataframe thead th {\n",
              "        text-align: right;\n",
              "    }\n",
              "</style>\n",
              "<table border=\"1\" class=\"dataframe\">\n",
              "  <thead>\n",
              "    <tr style=\"text-align: right;\">\n",
              "      <th></th>\n",
              "      <th>Make</th>\n",
              "      <th>Model</th>\n",
              "      <th>Transmission_Type</th>\n",
              "      <th>Driven_Wheels</th>\n",
              "      <th>Vehicle_Size</th>\n",
              "      <th>Vehicle_Style</th>\n",
              "    </tr>\n",
              "  </thead>\n",
              "  <tbody>\n",
              "    <tr>\n",
              "      <th>count</th>\n",
              "      <td>11043</td>\n",
              "      <td>11043</td>\n",
              "      <td>11043</td>\n",
              "      <td>11043</td>\n",
              "      <td>11043</td>\n",
              "      <td>11043</td>\n",
              "    </tr>\n",
              "    <tr>\n",
              "      <th>unique</th>\n",
              "      <td>47</td>\n",
              "      <td>910</td>\n",
              "      <td>5</td>\n",
              "      <td>4</td>\n",
              "      <td>3</td>\n",
              "      <td>16</td>\n",
              "    </tr>\n",
              "    <tr>\n",
              "      <th>top</th>\n",
              "      <td>Chevrolet</td>\n",
              "      <td>Silverado 1500</td>\n",
              "      <td>AUTOMATIC</td>\n",
              "      <td>front wheel drive</td>\n",
              "      <td>Compact</td>\n",
              "      <td>Sedan</td>\n",
              "    </tr>\n",
              "    <tr>\n",
              "      <th>freq</th>\n",
              "      <td>1077</td>\n",
              "      <td>156</td>\n",
              "      <td>7828</td>\n",
              "      <td>4297</td>\n",
              "      <td>4358</td>\n",
              "      <td>2805</td>\n",
              "    </tr>\n",
              "  </tbody>\n",
              "</table>\n",
              "</div>\n",
              "      <button class=\"colab-df-convert\" onclick=\"convertToInteractive('df-c62aeb6c-cf9e-4cbc-bdd8-9048b5fba43a')\"\n",
              "              title=\"Convert this dataframe to an interactive table.\"\n",
              "              style=\"display:none;\">\n",
              "        \n",
              "  <svg xmlns=\"http://www.w3.org/2000/svg\" height=\"24px\"viewBox=\"0 0 24 24\"\n",
              "       width=\"24px\">\n",
              "    <path d=\"M0 0h24v24H0V0z\" fill=\"none\"/>\n",
              "    <path d=\"M18.56 5.44l.94 2.06.94-2.06 2.06-.94-2.06-.94-.94-2.06-.94 2.06-2.06.94zm-11 1L8.5 8.5l.94-2.06 2.06-.94-2.06-.94L8.5 2.5l-.94 2.06-2.06.94zm10 10l.94 2.06.94-2.06 2.06-.94-2.06-.94-.94-2.06-.94 2.06-2.06.94z\"/><path d=\"M17.41 7.96l-1.37-1.37c-.4-.4-.92-.59-1.43-.59-.52 0-1.04.2-1.43.59L10.3 9.45l-7.72 7.72c-.78.78-.78 2.05 0 2.83L4 21.41c.39.39.9.59 1.41.59.51 0 1.02-.2 1.41-.59l7.78-7.78 2.81-2.81c.8-.78.8-2.07 0-2.86zM5.41 20L4 18.59l7.72-7.72 1.47 1.35L5.41 20z\"/>\n",
              "  </svg>\n",
              "      </button>\n",
              "      \n",
              "  <style>\n",
              "    .colab-df-container {\n",
              "      display:flex;\n",
              "      flex-wrap:wrap;\n",
              "      gap: 12px;\n",
              "    }\n",
              "\n",
              "    .colab-df-convert {\n",
              "      background-color: #E8F0FE;\n",
              "      border: none;\n",
              "      border-radius: 50%;\n",
              "      cursor: pointer;\n",
              "      display: none;\n",
              "      fill: #1967D2;\n",
              "      height: 32px;\n",
              "      padding: 0 0 0 0;\n",
              "      width: 32px;\n",
              "    }\n",
              "\n",
              "    .colab-df-convert:hover {\n",
              "      background-color: #E2EBFA;\n",
              "      box-shadow: 0px 1px 2px rgba(60, 64, 67, 0.3), 0px 1px 3px 1px rgba(60, 64, 67, 0.15);\n",
              "      fill: #174EA6;\n",
              "    }\n",
              "\n",
              "    [theme=dark] .colab-df-convert {\n",
              "      background-color: #3B4455;\n",
              "      fill: #D2E3FC;\n",
              "    }\n",
              "\n",
              "    [theme=dark] .colab-df-convert:hover {\n",
              "      background-color: #434B5C;\n",
              "      box-shadow: 0px 1px 3px 1px rgba(0, 0, 0, 0.15);\n",
              "      filter: drop-shadow(0px 1px 2px rgba(0, 0, 0, 0.3));\n",
              "      fill: #FFFFFF;\n",
              "    }\n",
              "  </style>\n",
              "\n",
              "      <script>\n",
              "        const buttonEl =\n",
              "          document.querySelector('#df-c62aeb6c-cf9e-4cbc-bdd8-9048b5fba43a button.colab-df-convert');\n",
              "        buttonEl.style.display =\n",
              "          google.colab.kernel.accessAllowed ? 'block' : 'none';\n",
              "\n",
              "        async function convertToInteractive(key) {\n",
              "          const element = document.querySelector('#df-c62aeb6c-cf9e-4cbc-bdd8-9048b5fba43a');\n",
              "          const dataTable =\n",
              "            await google.colab.kernel.invokeFunction('convertToInteractive',\n",
              "                                                     [key], {});\n",
              "          if (!dataTable) return;\n",
              "\n",
              "          const docLinkHtml = 'Like what you see? Visit the ' +\n",
              "            '<a target=\"_blank\" href=https://colab.research.google.com/notebooks/data_table.ipynb>data table notebook</a>'\n",
              "            + ' to learn more about interactive tables.';\n",
              "          element.innerHTML = '';\n",
              "          dataTable['output_type'] = 'display_data';\n",
              "          await google.colab.output.renderOutput(dataTable, element);\n",
              "          const docLink = document.createElement('div');\n",
              "          docLink.innerHTML = docLinkHtml;\n",
              "          element.appendChild(docLink);\n",
              "        }\n",
              "      </script>\n",
              "    </div>\n",
              "  </div>\n",
              "  "
            ]
          },
          "metadata": {},
          "execution_count": 367
        }
      ]
    },
    {
      "cell_type": "markdown",
      "metadata": {
        "id": "2EQpnaxF8t3U"
      },
      "source": [
        "Observations:\n",
        "1. Fitur Make & Model memiliki paling banyak unique value.\n",
        "2. Fitur Transmission_Type memiliki 5 unique value : AUTOMATIC, MANUAL, AUTOMATED_MANUAL, DIRECT_DRIVE, UNKNOWN.\n",
        "3. Fitur Driven_Wheels memiliki 4 unique values : Front wheel drive, rear wheel drive, all wheel drive, four wheel drive.\n",
        "4. fitur Vehicle_size memiliki 3 unique values : Compact, Midsize, Large.\n",
        "5. fitur Vehicle_style memiliki 16 unique values.\n"
      ]
    },
    {
      "cell_type": "markdown",
      "source": [
        "Summary data numerik :"
      ],
      "metadata": {
        "id": "gIMwvYjtu1ty"
      }
    },
    {
      "cell_type": "code",
      "source": [
        "df[numericals].describe()"
      ],
      "metadata": {
        "colab": {
          "base_uri": "https://localhost:8080/",
          "height": 300
        },
        "id": "kco_UC_mBUSL",
        "outputId": "73a7c7d3-4c82-491d-9985-5b0f0a1bcded"
      },
      "execution_count": 368,
      "outputs": [
        {
          "output_type": "execute_result",
          "data": {
            "text/plain": [
              "               Year     Engine_HP  Number_of_Doors      city_MPG          MSRP\n",
              "count  11043.000000  11043.000000     11043.000000  11043.000000  1.104300e+04\n",
              "mean    2010.670289    252.569773         3.448882     19.414108  4.184572e+04\n",
              "std        7.237156    109.840262         0.875407      7.220022  6.183163e+04\n",
              "min     1990.000000     55.000000         2.000000      7.000000  2.000000e+03\n",
              "25%     2007.000000    171.000000         2.000000     16.000000  2.149950e+04\n",
              "50%     2015.000000    236.000000         4.000000     18.000000  3.050000e+04\n",
              "75%     2016.000000    302.000000         4.000000     22.000000  4.288500e+04\n",
              "max     2017.000000   1001.000000         4.000000    137.000000  2.065902e+06"
            ],
            "text/html": [
              "\n",
              "  <div id=\"df-2972f4d9-4dd6-4de2-bdb1-5c324b90d71a\">\n",
              "    <div class=\"colab-df-container\">\n",
              "      <div>\n",
              "<style scoped>\n",
              "    .dataframe tbody tr th:only-of-type {\n",
              "        vertical-align: middle;\n",
              "    }\n",
              "\n",
              "    .dataframe tbody tr th {\n",
              "        vertical-align: top;\n",
              "    }\n",
              "\n",
              "    .dataframe thead th {\n",
              "        text-align: right;\n",
              "    }\n",
              "</style>\n",
              "<table border=\"1\" class=\"dataframe\">\n",
              "  <thead>\n",
              "    <tr style=\"text-align: right;\">\n",
              "      <th></th>\n",
              "      <th>Year</th>\n",
              "      <th>Engine_HP</th>\n",
              "      <th>Number_of_Doors</th>\n",
              "      <th>city_MPG</th>\n",
              "      <th>MSRP</th>\n",
              "    </tr>\n",
              "  </thead>\n",
              "  <tbody>\n",
              "    <tr>\n",
              "      <th>count</th>\n",
              "      <td>11043.000000</td>\n",
              "      <td>11043.000000</td>\n",
              "      <td>11043.000000</td>\n",
              "      <td>11043.000000</td>\n",
              "      <td>1.104300e+04</td>\n",
              "    </tr>\n",
              "    <tr>\n",
              "      <th>mean</th>\n",
              "      <td>2010.670289</td>\n",
              "      <td>252.569773</td>\n",
              "      <td>3.448882</td>\n",
              "      <td>19.414108</td>\n",
              "      <td>4.184572e+04</td>\n",
              "    </tr>\n",
              "    <tr>\n",
              "      <th>std</th>\n",
              "      <td>7.237156</td>\n",
              "      <td>109.840262</td>\n",
              "      <td>0.875407</td>\n",
              "      <td>7.220022</td>\n",
              "      <td>6.183163e+04</td>\n",
              "    </tr>\n",
              "    <tr>\n",
              "      <th>min</th>\n",
              "      <td>1990.000000</td>\n",
              "      <td>55.000000</td>\n",
              "      <td>2.000000</td>\n",
              "      <td>7.000000</td>\n",
              "      <td>2.000000e+03</td>\n",
              "    </tr>\n",
              "    <tr>\n",
              "      <th>25%</th>\n",
              "      <td>2007.000000</td>\n",
              "      <td>171.000000</td>\n",
              "      <td>2.000000</td>\n",
              "      <td>16.000000</td>\n",
              "      <td>2.149950e+04</td>\n",
              "    </tr>\n",
              "    <tr>\n",
              "      <th>50%</th>\n",
              "      <td>2015.000000</td>\n",
              "      <td>236.000000</td>\n",
              "      <td>4.000000</td>\n",
              "      <td>18.000000</td>\n",
              "      <td>3.050000e+04</td>\n",
              "    </tr>\n",
              "    <tr>\n",
              "      <th>75%</th>\n",
              "      <td>2016.000000</td>\n",
              "      <td>302.000000</td>\n",
              "      <td>4.000000</td>\n",
              "      <td>22.000000</td>\n",
              "      <td>4.288500e+04</td>\n",
              "    </tr>\n",
              "    <tr>\n",
              "      <th>max</th>\n",
              "      <td>2017.000000</td>\n",
              "      <td>1001.000000</td>\n",
              "      <td>4.000000</td>\n",
              "      <td>137.000000</td>\n",
              "      <td>2.065902e+06</td>\n",
              "    </tr>\n",
              "  </tbody>\n",
              "</table>\n",
              "</div>\n",
              "      <button class=\"colab-df-convert\" onclick=\"convertToInteractive('df-2972f4d9-4dd6-4de2-bdb1-5c324b90d71a')\"\n",
              "              title=\"Convert this dataframe to an interactive table.\"\n",
              "              style=\"display:none;\">\n",
              "        \n",
              "  <svg xmlns=\"http://www.w3.org/2000/svg\" height=\"24px\"viewBox=\"0 0 24 24\"\n",
              "       width=\"24px\">\n",
              "    <path d=\"M0 0h24v24H0V0z\" fill=\"none\"/>\n",
              "    <path d=\"M18.56 5.44l.94 2.06.94-2.06 2.06-.94-2.06-.94-.94-2.06-.94 2.06-2.06.94zm-11 1L8.5 8.5l.94-2.06 2.06-.94-2.06-.94L8.5 2.5l-.94 2.06-2.06.94zm10 10l.94 2.06.94-2.06 2.06-.94-2.06-.94-.94-2.06-.94 2.06-2.06.94z\"/><path d=\"M17.41 7.96l-1.37-1.37c-.4-.4-.92-.59-1.43-.59-.52 0-1.04.2-1.43.59L10.3 9.45l-7.72 7.72c-.78.78-.78 2.05 0 2.83L4 21.41c.39.39.9.59 1.41.59.51 0 1.02-.2 1.41-.59l7.78-7.78 2.81-2.81c.8-.78.8-2.07 0-2.86zM5.41 20L4 18.59l7.72-7.72 1.47 1.35L5.41 20z\"/>\n",
              "  </svg>\n",
              "      </button>\n",
              "      \n",
              "  <style>\n",
              "    .colab-df-container {\n",
              "      display:flex;\n",
              "      flex-wrap:wrap;\n",
              "      gap: 12px;\n",
              "    }\n",
              "\n",
              "    .colab-df-convert {\n",
              "      background-color: #E8F0FE;\n",
              "      border: none;\n",
              "      border-radius: 50%;\n",
              "      cursor: pointer;\n",
              "      display: none;\n",
              "      fill: #1967D2;\n",
              "      height: 32px;\n",
              "      padding: 0 0 0 0;\n",
              "      width: 32px;\n",
              "    }\n",
              "\n",
              "    .colab-df-convert:hover {\n",
              "      background-color: #E2EBFA;\n",
              "      box-shadow: 0px 1px 2px rgba(60, 64, 67, 0.3), 0px 1px 3px 1px rgba(60, 64, 67, 0.15);\n",
              "      fill: #174EA6;\n",
              "    }\n",
              "\n",
              "    [theme=dark] .colab-df-convert {\n",
              "      background-color: #3B4455;\n",
              "      fill: #D2E3FC;\n",
              "    }\n",
              "\n",
              "    [theme=dark] .colab-df-convert:hover {\n",
              "      background-color: #434B5C;\n",
              "      box-shadow: 0px 1px 3px 1px rgba(0, 0, 0, 0.15);\n",
              "      filter: drop-shadow(0px 1px 2px rgba(0, 0, 0, 0.3));\n",
              "      fill: #FFFFFF;\n",
              "    }\n",
              "  </style>\n",
              "\n",
              "      <script>\n",
              "        const buttonEl =\n",
              "          document.querySelector('#df-2972f4d9-4dd6-4de2-bdb1-5c324b90d71a button.colab-df-convert');\n",
              "        buttonEl.style.display =\n",
              "          google.colab.kernel.accessAllowed ? 'block' : 'none';\n",
              "\n",
              "        async function convertToInteractive(key) {\n",
              "          const element = document.querySelector('#df-2972f4d9-4dd6-4de2-bdb1-5c324b90d71a');\n",
              "          const dataTable =\n",
              "            await google.colab.kernel.invokeFunction('convertToInteractive',\n",
              "                                                     [key], {});\n",
              "          if (!dataTable) return;\n",
              "\n",
              "          const docLinkHtml = 'Like what you see? Visit the ' +\n",
              "            '<a target=\"_blank\" href=https://colab.research.google.com/notebooks/data_table.ipynb>data table notebook</a>'\n",
              "            + ' to learn more about interactive tables.';\n",
              "          element.innerHTML = '';\n",
              "          dataTable['output_type'] = 'display_data';\n",
              "          await google.colab.output.renderOutput(dataTable, element);\n",
              "          const docLink = document.createElement('div');\n",
              "          docLink.innerHTML = docLinkHtml;\n",
              "          element.appendChild(docLink);\n",
              "        }\n",
              "      </script>\n",
              "    </div>\n",
              "  </div>\n",
              "  "
            ]
          },
          "metadata": {},
          "execution_count": 368
        }
      ]
    },
    {
      "cell_type": "markdown",
      "source": [
        "Observation:\n",
        "1. Kolom Year sebenarnya type data kategorikal, dengan nilai 1990-2017 (integer).\n",
        "2. Number_of_Doors sebenarnya type data kategorikal, dengan nilai 2-4 (integer).\n",
        "3. kelompok data numerik memiliki kecenderungan distribusi negatif & positif skew.\n",
        "4. kolom EngineHP, city_MPG, dan MSRP memiliki distribusi positively skew, karena memiliki nilai Mean > 50%.\n",
        "5. kolom Year & Number_of_Doors memiliki distribusi negatively skew, karena memiliki nilai Mean < 50%\n",
        "6. keseluruhan, nilai minimum dan maksimumnya masih masuk akal."
      ],
      "metadata": {
        "id": "W6gpiviRw9gp"
      }
    },
    {
      "cell_type": "markdown",
      "source": [
        "#**Handle Outlier**"
      ],
      "metadata": {
        "id": "lbd-51E4HyQE"
      }
    },
    {
      "cell_type": "code",
      "source": [
        "plt.figure(figsize=(12,6))\n",
        "features = numericals\n",
        "for i in range(0, len(features)):\n",
        "    plt.subplot(1, len(features), i+1)\n",
        "    sns.boxplot(y=df[features[i]], color='blue')\n",
        "    plt.tight_layout()"
      ],
      "metadata": {
        "colab": {
          "base_uri": "https://localhost:8080/",
          "height": 441
        },
        "id": "nkQoSqoCIVt-",
        "outputId": "36f1264f-08fb-4a28-872f-ddadd7c026c9"
      },
      "execution_count": 369,
      "outputs": [
        {
          "output_type": "display_data",
          "data": {
            "text/plain": [
              "<Figure size 864x432 with 5 Axes>"
            ],
            "image/png": "[encoded data removed]"
          },
          "metadata": {
            "needs_background": "light"
          }
        }
      ]
    },
    {
      "cell_type": "markdown",
      "source": [
        "Obervation:\n",
        "\n",
        "1. terdapat outlier pada fitur Year, Engine_HP, city_MPG, MSRP.\n",
        "2. hanya fitur Number_of_doors yang tidak memiliki outlier.\n",
        "3. tetapi kalau melihat dari spesifikasi lengkap merk dan tipe mobilnya, nilai outlier tersebut masih wajar."
      ],
      "metadata": {
        "id": "ih_kqh5AK8re"
      }
    },
    {
      "cell_type": "markdown",
      "source": [
        "##**Cek outlier fitur Year**"
      ],
      "metadata": {
        "id": "hnB1wOv_50aG"
      }
    },
    {
      "cell_type": "code",
      "source": [
        "# Create Boxplot\n",
        "plt.figure(figsize=(12,8))\n",
        "sns.boxplot(data=df[\"Year\"],palette=\"husl\")\n",
        "plt.show()"
      ],
      "metadata": {
        "colab": {
          "base_uri": "https://localhost:8080/",
          "height": 482
        },
        "id": "wpRzju_75tfy",
        "outputId": "42b82211-483a-475c-8498-fb0fdeeb0e0b"
      },
      "execution_count": 370,
      "outputs": [
        {
          "output_type": "display_data",
          "data": {
            "text/plain": [
              "<Figure size 864x576 with 1 Axes>"
            ],
            "image/png": "[encoded data removed]"
          },
          "metadata": {
            "needs_background": "light"
          }
        }
      ]
    },
    {
      "cell_type": "code",
      "source": [
        "df['Year'].describe()"
      ],
      "metadata": {
        "colab": {
          "base_uri": "https://localhost:8080/"
        },
        "id": "-Zn33JRo6Tw2",
        "outputId": "38ebb01c-e1a4-4040-daca-691e06d5f01f"
      },
      "execution_count": 371,
      "outputs": [
        {
          "output_type": "execute_result",
          "data": {
            "text/plain": [
              "count    11043.000000\n",
              "mean      2010.670289\n",
              "std          7.237156\n",
              "min       1990.000000\n",
              "25%       2007.000000\n",
              "50%       2015.000000\n",
              "75%       2016.000000\n",
              "max       2017.000000\n",
              "Name: Year, dtype: float64"
            ]
          },
          "metadata": {},
          "execution_count": 371
        }
      ]
    },
    {
      "cell_type": "markdown",
      "source": [
        "setelah melihat data Year, data terendah ada di tahun 1990 adalah wajar untuk tahun mobil. sehingga saya tidak akan mereduksi fitur Year."
      ],
      "metadata": {
        "id": "GtjTGrzV6fxL"
      }
    },
    {
      "cell_type": "markdown",
      "source": [
        "##**Cek outlier fitur Engine_HP**"
      ],
      "metadata": {
        "id": "NtU6V_E1_xVV"
      }
    },
    {
      "cell_type": "code",
      "source": [
        "# Create Boxplot\n",
        "plt.figure(figsize=(12,8))\n",
        "sns.boxplot(data=df[\"Engine_HP\"],palette=\"husl\")\n",
        "plt.show()"
      ],
      "metadata": {
        "colab": {
          "base_uri": "https://localhost:8080/",
          "height": 482
        },
        "id": "7cqChpRs_2rt",
        "outputId": "331f7b03-5616-40c8-9e00-984eeba6c5ca"
      },
      "execution_count": 372,
      "outputs": [
        {
          "output_type": "display_data",
          "data": {
            "text/plain": [
              "<Figure size 864x576 with 1 Axes>"
            ],
            "image/png": "[encoded data removed]"
          },
          "metadata": {
            "needs_background": "light"
          }
        }
      ]
    },
    {
      "cell_type": "code",
      "source": [
        "df['Engine_HP'].describe()"
      ],
      "metadata": {
        "colab": {
          "base_uri": "https://localhost:8080/"
        },
        "id": "6FUp26bGAkIW",
        "outputId": "34fa74f9-c2b5-44d7-dc5a-1eaaeaab5a26"
      },
      "execution_count": 373,
      "outputs": [
        {
          "output_type": "execute_result",
          "data": {
            "text/plain": [
              "count    11043.000000\n",
              "mean       252.569773\n",
              "std        109.840262\n",
              "min         55.000000\n",
              "25%        171.000000\n",
              "50%        236.000000\n",
              "75%        302.000000\n",
              "max       1001.000000\n",
              "Name: Engine_HP, dtype: float64"
            ]
          },
          "metadata": {},
          "execution_count": 373
        }
      ]
    },
    {
      "cell_type": "code",
      "source": [
        "# IQR Calculation and its boundary\n",
        "Q1 = df[\"Engine_HP\"].quantile(0.10)\n",
        "Q3 = df[\"Engine_HP\"].quantile(0.90)\n",
        "IQR = Q3 - Q1\n",
        "lower_boundary = Q1 - (1.5 * IQR)\n",
        "upper_boundary = Q3 + (1.5 * IQR)\n",
        "\n",
        "# Create filter logic of IQR\n",
        "filter_logic = (df[\"Engine_HP\"] >= lower_boundary) & (df[\"Engine_HP\"] <= upper_boundary)\n",
        "\n",
        "# Apply the filter\n",
        "df = df[filter_logic]"
      ],
      "metadata": {
        "id": "F0lUZkIoPu7y"
      },
      "execution_count": 374,
      "outputs": []
    },
    {
      "cell_type": "code",
      "source": [
        "# Create Boxplot\n",
        "plt.figure(figsize=(12,8))\n",
        "sns.boxplot(data=df[\"Engine_HP\"],palette=\"husl\")\n",
        "plt.show()"
      ],
      "metadata": {
        "colab": {
          "base_uri": "https://localhost:8080/",
          "height": 482
        },
        "id": "1uWBM-vfQH54",
        "outputId": "bcbc0f4f-85be-4902-e752-142a4b311c49"
      },
      "execution_count": 375,
      "outputs": [
        {
          "output_type": "display_data",
          "data": {
            "text/plain": [
              "<Figure size 864x576 with 1 Axes>"
            ],
            "image/png": "[encoded data removed]"
          },
          "metadata": {
            "needs_background": "light"
          }
        }
      ]
    },
    {
      "cell_type": "code",
      "source": [
        "df['Engine_HP'].describe()"
      ],
      "metadata": {
        "colab": {
          "base_uri": "https://localhost:8080/"
        },
        "id": "J6yXFGzeEuD9",
        "outputId": "996f1706-17ab-4c53-9ff0-0e86359b902a"
      },
      "execution_count": 376,
      "outputs": [
        {
          "output_type": "execute_result",
          "data": {
            "text/plain": [
              "count    11040.000000\n",
              "mean       252.366395\n",
              "std        109.159942\n",
              "min         55.000000\n",
              "25%        171.000000\n",
              "50%        236.000000\n",
              "75%        302.000000\n",
              "max        750.000000\n",
              "Name: Engine_HP, dtype: float64"
            ]
          },
          "metadata": {},
          "execution_count": 376
        }
      ]
    },
    {
      "cell_type": "markdown",
      "source": [
        "setelah dilakukan handle outlier pada fitur Engine_HP menggunakan metode IQR, maka dataframe tereduksi lagi menjadi 11040 rows."
      ],
      "metadata": {
        "id": "y7fTrWiq8jmW"
      }
    },
    {
      "cell_type": "markdown",
      "source": [
        "##**Cek Outlier fitur city_MPG**"
      ],
      "metadata": {
        "id": "VwakFzcLOlwv"
      }
    },
    {
      "cell_type": "code",
      "source": [
        "# Create Boxplot\n",
        "plt.figure(figsize=(12,8))\n",
        "sns.boxplot(data=df[\"city_MPG\"],palette=\"husl\")\n",
        "plt.show()"
      ],
      "metadata": {
        "colab": {
          "base_uri": "https://localhost:8080/",
          "height": 482
        },
        "id": "belk9IxUWD0m",
        "outputId": "c1c8047c-8f15-479d-8616-3de1d9a2351d"
      },
      "execution_count": 377,
      "outputs": [
        {
          "output_type": "display_data",
          "data": {
            "text/plain": [
              "<Figure size 864x576 with 1 Axes>"
            ],
            "image/png": "[encoded data removed]"
          },
          "metadata": {
            "needs_background": "light"
          }
        }
      ]
    },
    {
      "cell_type": "code",
      "source": [
        "df['city_MPG'].describe()"
      ],
      "metadata": {
        "colab": {
          "base_uri": "https://localhost:8080/"
        },
        "id": "7-CJlnUuWMxu",
        "outputId": "b25fe535-fabb-4786-c838-dcdb106d92ef"
      },
      "execution_count": 378,
      "outputs": [
        {
          "output_type": "execute_result",
          "data": {
            "text/plain": [
              "count    11040.00000\n",
              "mean        19.41721\n",
              "std          7.21855\n",
              "min          7.00000\n",
              "25%         16.00000\n",
              "50%         18.00000\n",
              "75%         22.00000\n",
              "max        137.00000\n",
              "Name: city_MPG, dtype: float64"
            ]
          },
          "metadata": {},
          "execution_count": 378
        }
      ]
    },
    {
      "cell_type": "code",
      "source": [
        "# IQR Calculation and its boundary\n",
        "Q1 = df[\"city_MPG\"].quantile(0.10)\n",
        "Q3 = df[\"city_MPG\"].quantile(0.90)\n",
        "IQR = Q3 - Q1\n",
        "lower_boundary = Q1 - (1.5 * IQR)\n",
        "upper_boundary = Q3 + (1.5 * IQR)\n",
        "\n",
        "# Create filter logic of IQR\n",
        "filter_logic = (df[\"city_MPG\"] >= lower_boundary) & (df[\"city_MPG\"] <= upper_boundary)\n",
        "\n",
        "# Apply the filter\n",
        "df = df[filter_logic]\n",
        "\n",
        "# Create Boxplot\n",
        "plt.figure(figsize=(12,8))\n",
        "sns.boxplot(data=df[\"city_MPG\"],palette=\"husl\")\n",
        "plt.show()"
      ],
      "metadata": {
        "id": "ctNxkhQGWNXe",
        "colab": {
          "base_uri": "https://localhost:8080/",
          "height": 482
        },
        "outputId": "4c24365b-cd81-4c43-bdbb-d10597f4217f"
      },
      "execution_count": 379,
      "outputs": [
        {
          "output_type": "display_data",
          "data": {
            "text/plain": [
              "<Figure size 864x576 with 1 Axes>"
            ],
            "image/png": "[encoded data removed]"
          },
          "metadata": {
            "needs_background": "light"
          }
        }
      ]
    },
    {
      "cell_type": "code",
      "source": [
        "df['city_MPG'].describe()"
      ],
      "metadata": {
        "colab": {
          "base_uri": "https://localhost:8080/"
        },
        "id": "vfoiz-V1SZkY",
        "outputId": "3f5a2652-6b3c-42b1-dfc2-db48c1d57d0b"
      },
      "execution_count": 380,
      "outputs": [
        {
          "output_type": "execute_result",
          "data": {
            "text/plain": [
              "count    10972.000000\n",
              "mean        19.076923\n",
              "std          5.164923\n",
              "min          7.000000\n",
              "25%         16.000000\n",
              "50%         18.000000\n",
              "75%         22.000000\n",
              "max         44.000000\n",
              "Name: city_MPG, dtype: float64"
            ]
          },
          "metadata": {},
          "execution_count": 380
        }
      ]
    },
    {
      "cell_type": "markdown",
      "source": [
        "setelah dilakukan handle outlier pada fitur city_MPG menggunakan metode IQR, maka dataframe tereduksi lagi menjadi 10972 rows."
      ],
      "metadata": {
        "id": "bwDV8fvEW62i"
      }
    },
    {
      "cell_type": "markdown",
      "source": [
        "##**Cek outlier fitur MSRP**"
      ],
      "metadata": {
        "id": "bHXuQ1fKwmSI"
      }
    },
    {
      "cell_type": "code",
      "source": [
        "# Create Boxplot\n",
        "plt.figure(figsize=(12,8))\n",
        "sns.boxplot(data=df[\"MSRP\"],palette=\"husl\")\n",
        "plt.show()"
      ],
      "metadata": {
        "colab": {
          "base_uri": "https://localhost:8080/",
          "height": 494
        },
        "id": "mzxW92Q8wlFQ",
        "outputId": "384c8590-26bd-4314-f05b-66f440ca3556"
      },
      "execution_count": 381,
      "outputs": [
        {
          "output_type": "display_data",
          "data": {
            "text/plain": [
              "<Figure size 864x576 with 1 Axes>"
            ],
            "image/png": "[encoded data removed]"
          },
          "metadata": {
            "needs_background": "light"
          }
        }
      ]
    },
    {
      "cell_type": "code",
      "source": [
        "df['MSRP'].describe()"
      ],
      "metadata": {
        "colab": {
          "base_uri": "https://localhost:8080/"
        },
        "id": "AnOyLdUIwz7p",
        "outputId": "afd85990-4f1f-4e5b-fb08-5c00981a1530"
      },
      "execution_count": 382,
      "outputs": [
        {
          "output_type": "execute_result",
          "data": {
            "text/plain": [
              "count    1.097200e+04\n",
              "mean     4.145440e+04\n",
              "std      5.501709e+04\n",
              "min      2.000000e+03\n",
              "25%      2.147500e+04\n",
              "50%      3.054500e+04\n",
              "75%      4.298875e+04\n",
              "max      1.500000e+06\n",
              "Name: MSRP, dtype: float64"
            ]
          },
          "metadata": {},
          "execution_count": 382
        }
      ]
    },
    {
      "cell_type": "code",
      "source": [
        "# IQR Calculation and its boundary\n",
        "Q1 = df[\"MSRP\"].quantile(0.10)\n",
        "Q3 = df[\"MSRP\"].quantile(0.90)\n",
        "IQR = Q3 - Q1\n",
        "lower_boundary = Q1 - (1.5 * IQR)\n",
        "upper_boundary = Q3 + (1.5 * IQR)\n",
        "\n",
        "# Create filter logic of IQR\n",
        "filter_logic = (df[\"MSRP\"] >= lower_boundary) & (df[\"MSRP\"] <= upper_boundary)\n",
        "\n",
        "# Apply the filter\n",
        "df = df[filter_logic]\n",
        "\n",
        "# Create Boxplot\n",
        "plt.figure(figsize=(12,8))\n",
        "sns.boxplot(data=df[\"MSRP\"],palette=\"husl\")\n",
        "plt.show()"
      ],
      "metadata": {
        "id": "Z_3DslJEw_R6",
        "colab": {
          "base_uri": "https://localhost:8080/",
          "height": 482
        },
        "outputId": "472663ec-7f57-4e6d-8c79-5ab047f22d1f"
      },
      "execution_count": 383,
      "outputs": [
        {
          "output_type": "display_data",
          "data": {
            "text/plain": [
              "<Figure size 864x576 with 1 Axes>"
            ],
            "image/png": "[encoded data removed]"
          },
          "metadata": {
            "needs_background": "light"
          }
        }
      ]
    },
    {
      "cell_type": "code",
      "source": [
        "df['MSRP'].describe()"
      ],
      "metadata": {
        "colab": {
          "base_uri": "https://localhost:8080/"
        },
        "id": "EKsTMDeLxLa4",
        "outputId": "b65ef245-25ee-451a-d364-aa7e46474b6c"
      },
      "execution_count": 384,
      "outputs": [
        {
          "output_type": "execute_result",
          "data": {
            "text/plain": [
              "count     10605.000000\n",
              "mean      33417.811598\n",
              "std       23530.380318\n",
              "min        2000.000000\n",
              "25%       21095.000000\n",
              "50%       29945.000000\n",
              "75%       41340.000000\n",
              "max      162000.000000\n",
              "Name: MSRP, dtype: float64"
            ]
          },
          "metadata": {},
          "execution_count": 384
        }
      ]
    },
    {
      "cell_type": "markdown",
      "source": [
        "setelah dilakukan handle outlier pada fitur MSRP menggunakan metode IQR, maka dataframe tereduksi lagi menjadi 10605 rows."
      ],
      "metadata": {
        "id": "INCcPm-axmWw"
      }
    },
    {
      "cell_type": "markdown",
      "source": [
        "#**Distribution Form**"
      ],
      "metadata": {
        "id": "BeuKObNU_828"
      }
    },
    {
      "cell_type": "markdown",
      "source": [
        "##**Numerical Columns**"
      ],
      "metadata": {
        "id": "VYfKJGd7iLS1"
      }
    },
    {
      "cell_type": "code",
      "source": [
        "# KDE Plot\n",
        "\n",
        "plt.figure(figsize=(12,6))\n",
        "\n",
        "features = numericals\n",
        "for i in range(0, len(features)):\n",
        "    plt.subplot(2, len(features)//2 + 1, i+1)\n",
        "    sns.distplot(x=df[features[i]], color='blue')\n",
        "    plt.xlabel(features[i])\n",
        "    plt.tight_layout()"
      ],
      "metadata": {
        "colab": {
          "base_uri": "https://localhost:8080/",
          "height": 441
        },
        "id": "X5bPWQHe_8Q3",
        "outputId": "d5f17be6-0598-49eb-edc9-e09fd3e8368b"
      },
      "execution_count": 385,
      "outputs": [
        {
          "output_type": "display_data",
          "data": {
            "text/plain": [
              "<Figure size 864x432 with 5 Axes>"
            ],
            "image/png": "[encoded data removed]"
          },
          "metadata": {
            "needs_background": "light"
          }
        }
      ]
    },
    {
      "cell_type": "markdown",
      "source": [
        "Observation:\n",
        "1. fitur city_MPG hampir mendekati simetris.\n",
        "2. fitur Year memiliki distribusi negatively skew. diduga karena mengikuti perkembangan produksi pabrikan yang dari tahun ke tahun memiliki tipe dan model yang semakin beragam.\n",
        "3. fitur Engine_HP dan MSRP memiliki distribusi bimodal / distribusi dua puncak.\n",
        "4. fitur Number_of_doors memiliki dstribusi Multinom / distribusi lebih dari 2 puncak."
      ],
      "metadata": {
        "id": "RusUHKUtB8fC"
      }
    },
    {
      "cell_type": "markdown",
      "source": [
        "##**Categorical Columns**"
      ],
      "metadata": {
        "id": "qdPnK0NoGjkQ"
      }
    },
    {
      "cell_type": "code",
      "source": [
        "# Count Plot\n",
        "\n",
        "plt.figure(figsize=(70,20))\n",
        "\n",
        "features = categoricals\n",
        "for i in range(0, len(features)):\n",
        "    plt.subplot(2, len(features)//2 + 1, i+1)\n",
        "    #plt.subplot(1, len(features), i+1)\n",
        "    sns.countplot(x=df[features[i]])\n",
        "    plt.xlabel(features[i])\n",
        "    plt.tight_layout()\n",
        "    plt.xticks(rotation=90)"
      ],
      "metadata": {
        "colab": {
          "base_uri": "https://localhost:8080/",
          "height": 416
        },
        "id": "TSugARfoL6dM",
        "outputId": "8137ec19-3508-4242-ff81-303bf10d8ce3"
      },
      "execution_count": 386,
      "outputs": [
        {
          "output_type": "display_data",
          "data": {
            "text/plain": [
              "<Figure size 5040x1440 with 6 Axes>"
            ],
            "image/png": "[encoded data removed]"
          },
          "metadata": {
            "needs_background": "light"
          }
        }
      ]
    },
    {
      "cell_type": "markdown",
      "source": [
        "Observation:\n",
        "1. kolom Make memiliki 47 merek mobil. dengan 5 merek terbanyak ada pada merk Chevrolet, ford, Toyota, Volkswagen, Nissan.\n",
        "2. kolom Model sulit di visualisasi karena terlalu banyak model/tipe pada masing-masing merk mobil.\n",
        "3. kolom Transmission_Type : mayoritas adalah mobil dengan jenis transmisi Automated. sedangkan yang paling sedikit adalah mobil dengan jenis transmisi Direct drive, yang mungkin dikarenakan jenis transmisi tersebut hanya ada di mobil bermesin listrik yang belum semua merek memproduksi mobil listrik.\n",
        "4. kolom driven_wheels : jenis penggerak mayoritas adalah front wheel drive. yang mungkin mengutamakan efisiensi.\n",
        "5. kolom Vehicle_size : mayoritas jenis mobil compact & midsize.\n",
        "6. kolom Vehicle_Style : Sedan & 4dr SUV menjadi mayoritas yang diproduksi pabrikan mobil."
      ],
      "metadata": {
        "id": "GY4pJ6RBdmx1"
      }
    },
    {
      "cell_type": "markdown",
      "source": [
        "#**Encoding**"
      ],
      "metadata": {
        "id": "nAPDxa9hO-L-"
      }
    },
    {
      "cell_type": "code",
      "source": [
        "df[categoricals].describe()"
      ],
      "metadata": {
        "colab": {
          "base_uri": "https://localhost:8080/",
          "height": 174
        },
        "id": "UHkbCKgBZ67X",
        "outputId": "54b01647-d238-4015-a3e5-3e76d4082ca5"
      },
      "execution_count": 387,
      "outputs": [
        {
          "output_type": "execute_result",
          "data": {
            "text/plain": [
              "             Make           Model Transmission_Type      Driven_Wheels  \\\n",
              "count       10605           10605             10605              10605   \n",
              "unique         40             826                 4                  4   \n",
              "top     Chevrolet  Silverado 1500         AUTOMATIC  front wheel drive   \n",
              "freq         1067             156              7593               4235   \n",
              "\n",
              "       Vehicle_Size Vehicle_Style  \n",
              "count         10605         10605  \n",
              "unique            3            16  \n",
              "top         Compact         Sedan  \n",
              "freq           4151          2715  "
            ],
            "text/html": [
              "\n",
              "  <div id=\"df-77757c6e-4be2-4322-bbd2-462d61739bee\">\n",
              "    <div class=\"colab-df-container\">\n",
              "      <div>\n",
              "<style scoped>\n",
              "    .dataframe tbody tr th:only-of-type {\n",
              "        vertical-align: middle;\n",
              "    }\n",
              "\n",
              "    .dataframe tbody tr th {\n",
              "        vertical-align: top;\n",
              "    }\n",
              "\n",
              "    .dataframe thead th {\n",
              "        text-align: right;\n",
              "    }\n",
              "</style>\n",
              "<table border=\"1\" class=\"dataframe\">\n",
              "  <thead>\n",
              "    <tr style=\"text-align: right;\">\n",
              "      <th></th>\n",
              "      <th>Make</th>\n",
              "      <th>Model</th>\n",
              "      <th>Transmission_Type</th>\n",
              "      <th>Driven_Wheels</th>\n",
              "      <th>Vehicle_Size</th>\n",
              "      <th>Vehicle_Style</th>\n",
              "    </tr>\n",
              "  </thead>\n",
              "  <tbody>\n",
              "    <tr>\n",
              "      <th>count</th>\n",
              "      <td>10605</td>\n",
              "      <td>10605</td>\n",
              "      <td>10605</td>\n",
              "      <td>10605</td>\n",
              "      <td>10605</td>\n",
              "      <td>10605</td>\n",
              "    </tr>\n",
              "    <tr>\n",
              "      <th>unique</th>\n",
              "      <td>40</td>\n",
              "      <td>826</td>\n",
              "      <td>4</td>\n",
              "      <td>4</td>\n",
              "      <td>3</td>\n",
              "      <td>16</td>\n",
              "    </tr>\n",
              "    <tr>\n",
              "      <th>top</th>\n",
              "      <td>Chevrolet</td>\n",
              "      <td>Silverado 1500</td>\n",
              "      <td>AUTOMATIC</td>\n",
              "      <td>front wheel drive</td>\n",
              "      <td>Compact</td>\n",
              "      <td>Sedan</td>\n",
              "    </tr>\n",
              "    <tr>\n",
              "      <th>freq</th>\n",
              "      <td>1067</td>\n",
              "      <td>156</td>\n",
              "      <td>7593</td>\n",
              "      <td>4235</td>\n",
              "      <td>4151</td>\n",
              "      <td>2715</td>\n",
              "    </tr>\n",
              "  </tbody>\n",
              "</table>\n",
              "</div>\n",
              "      <button class=\"colab-df-convert\" onclick=\"convertToInteractive('df-77757c6e-4be2-4322-bbd2-462d61739bee')\"\n",
              "              title=\"Convert this dataframe to an interactive table.\"\n",
              "              style=\"display:none;\">\n",
              "        \n",
              "  <svg xmlns=\"http://www.w3.org/2000/svg\" height=\"24px\"viewBox=\"0 0 24 24\"\n",
              "       width=\"24px\">\n",
              "    <path d=\"M0 0h24v24H0V0z\" fill=\"none\"/>\n",
              "    <path d=\"M18.56 5.44l.94 2.06.94-2.06 2.06-.94-2.06-.94-.94-2.06-.94 2.06-2.06.94zm-11 1L8.5 8.5l.94-2.06 2.06-.94-2.06-.94L8.5 2.5l-.94 2.06-2.06.94zm10 10l.94 2.06.94-2.06 2.06-.94-2.06-.94-.94-2.06-.94 2.06-2.06.94z\"/><path d=\"M17.41 7.96l-1.37-1.37c-.4-.4-.92-.59-1.43-.59-.52 0-1.04.2-1.43.59L10.3 9.45l-7.72 7.72c-.78.78-.78 2.05 0 2.83L4 21.41c.39.39.9.59 1.41.59.51 0 1.02-.2 1.41-.59l7.78-7.78 2.81-2.81c.8-.78.8-2.07 0-2.86zM5.41 20L4 18.59l7.72-7.72 1.47 1.35L5.41 20z\"/>\n",
              "  </svg>\n",
              "      </button>\n",
              "      \n",
              "  <style>\n",
              "    .colab-df-container {\n",
              "      display:flex;\n",
              "      flex-wrap:wrap;\n",
              "      gap: 12px;\n",
              "    }\n",
              "\n",
              "    .colab-df-convert {\n",
              "      background-color: #E8F0FE;\n",
              "      border: none;\n",
              "      border-radius: 50%;\n",
              "      cursor: pointer;\n",
              "      display: none;\n",
              "      fill: #1967D2;\n",
              "      height: 32px;\n",
              "      padding: 0 0 0 0;\n",
              "      width: 32px;\n",
              "    }\n",
              "\n",
              "    .colab-df-convert:hover {\n",
              "      background-color: #E2EBFA;\n",
              "      box-shadow: 0px 1px 2px rgba(60, 64, 67, 0.3), 0px 1px 3px 1px rgba(60, 64, 67, 0.15);\n",
              "      fill: #174EA6;\n",
              "    }\n",
              "\n",
              "    [theme=dark] .colab-df-convert {\n",
              "      background-color: #3B4455;\n",
              "      fill: #D2E3FC;\n",
              "    }\n",
              "\n",
              "    [theme=dark] .colab-df-convert:hover {\n",
              "      background-color: #434B5C;\n",
              "      box-shadow: 0px 1px 3px 1px rgba(0, 0, 0, 0.15);\n",
              "      filter: drop-shadow(0px 1px 2px rgba(0, 0, 0, 0.3));\n",
              "      fill: #FFFFFF;\n",
              "    }\n",
              "  </style>\n",
              "\n",
              "      <script>\n",
              "        const buttonEl =\n",
              "          document.querySelector('#df-77757c6e-4be2-4322-bbd2-462d61739bee button.colab-df-convert');\n",
              "        buttonEl.style.display =\n",
              "          google.colab.kernel.accessAllowed ? 'block' : 'none';\n",
              "\n",
              "        async function convertToInteractive(key) {\n",
              "          const element = document.querySelector('#df-77757c6e-4be2-4322-bbd2-462d61739bee');\n",
              "          const dataTable =\n",
              "            await google.colab.kernel.invokeFunction('convertToInteractive',\n",
              "                                                     [key], {});\n",
              "          if (!dataTable) return;\n",
              "\n",
              "          const docLinkHtml = 'Like what you see? Visit the ' +\n",
              "            '<a target=\"_blank\" href=https://colab.research.google.com/notebooks/data_table.ipynb>data table notebook</a>'\n",
              "            + ' to learn more about interactive tables.';\n",
              "          element.innerHTML = '';\n",
              "          dataTable['output_type'] = 'display_data';\n",
              "          await google.colab.output.renderOutput(dataTable, element);\n",
              "          const docLink = document.createElement('div');\n",
              "          docLink.innerHTML = docLinkHtml;\n",
              "          element.appendChild(docLink);\n",
              "        }\n",
              "      </script>\n",
              "    </div>\n",
              "  </div>\n",
              "  "
            ]
          },
          "metadata": {},
          "execution_count": 387
        }
      ]
    },
    {
      "cell_type": "markdown",
      "source": [
        "##**Encoding fitur Make**"
      ],
      "metadata": {
        "id": "sWVvQLW0YPyK"
      }
    },
    {
      "cell_type": "markdown",
      "source": [
        "untuk fitur Make akan digunakan frequency encoding"
      ],
      "metadata": {
        "id": "Mheft1MTaodi"
      }
    },
    {
      "cell_type": "code",
      "source": [
        "freq_mk = df['Make'].value_counts().reset_index()\n",
        "freq_mk.rename(columns={'index': 'Make', 'Make': 'freq_Make'}, inplace = True)\n",
        "freq_mk['pct_Make'] = round((freq_mk['freq_Make']/freq_mk['freq_Make'].sum())*100,2)\n",
        "\n",
        "df = df.merge(freq_mk[['Make','pct_Make']], on='Make', how='inner')\n",
        "\n",
        "df = df.drop(['Make'], axis=1)\n",
        "\n",
        "df.head()"
      ],
      "metadata": {
        "colab": {
          "base_uri": "https://localhost:8080/",
          "height": 206
        },
        "id": "7XTR_LBKbb8j",
        "outputId": "63dd09a3-cded-4a79-8941-cadab456f372"
      },
      "execution_count": 388,
      "outputs": [
        {
          "output_type": "execute_result",
          "data": {
            "text/plain": [
              "        Model  Year  Engine_HP Transmission_Type     Driven_Wheels  \\\n",
              "0  1 Series M  2011      335.0            MANUAL  rear wheel drive   \n",
              "1    1 Series  2011      300.0            MANUAL  rear wheel drive   \n",
              "2    1 Series  2011      300.0            MANUAL  rear wheel drive   \n",
              "3    1 Series  2011      230.0            MANUAL  rear wheel drive   \n",
              "4    1 Series  2011      230.0            MANUAL  rear wheel drive   \n",
              "\n",
              "   Number_of_Doors Vehicle_Size Vehicle_Style  city_MPG   MSRP  pct_Make  \n",
              "0              2.0      Compact         Coupe        19  46135      3.02  \n",
              "1              2.0      Compact   Convertible        19  40650      3.02  \n",
              "2              2.0      Compact         Coupe        20  36350      3.02  \n",
              "3              2.0      Compact         Coupe        18  29450      3.02  \n",
              "4              2.0      Compact   Convertible        18  34500      3.02  "
            ],
            "text/html": [
              "\n",
              "  <div id=\"df-e89c15e1-f989-494c-97c2-a59392bada83\">\n",
              "    <div class=\"colab-df-container\">\n",
              "      <div>\n",
              "<style scoped>\n",
              "    .dataframe tbody tr th:only-of-type {\n",
              "        vertical-align: middle;\n",
              "    }\n",
              "\n",
              "    .dataframe tbody tr th {\n",
              "        vertical-align: top;\n",
              "    }\n",
              "\n",
              "    .dataframe thead th {\n",
              "        text-align: right;\n",
              "    }\n",
              "</style>\n",
              "<table border=\"1\" class=\"dataframe\">\n",
              "  <thead>\n",
              "    <tr style=\"text-align: right;\">\n",
              "      <th></th>\n",
              "      <th>Model</th>\n",
              "      <th>Year</th>\n",
              "      <th>Engine_HP</th>\n",
              "      <th>Transmission_Type</th>\n",
              "      <th>Driven_Wheels</th>\n",
              "      <th>Number_of_Doors</th>\n",
              "      <th>Vehicle_Size</th>\n",
              "      <th>Vehicle_Style</th>\n",
              "      <th>city_MPG</th>\n",
              "      <th>MSRP</th>\n",
              "      <th>pct_Make</th>\n",
              "    </tr>\n",
              "  </thead>\n",
              "  <tbody>\n",
              "    <tr>\n",
              "      <th>0</th>\n",
              "      <td>1 Series M</td>\n",
              "      <td>2011</td>\n",
              "      <td>335.0</td>\n",
              "      <td>MANUAL</td>\n",
              "      <td>rear wheel drive</td>\n",
              "      <td>2.0</td>\n",
              "      <td>Compact</td>\n",
              "      <td>Coupe</td>\n",
              "      <td>19</td>\n",
              "      <td>46135</td>\n",
              "      <td>3.02</td>\n",
              "    </tr>\n",
              "    <tr>\n",
              "      <th>1</th>\n",
              "      <td>1 Series</td>\n",
              "      <td>2011</td>\n",
              "      <td>300.0</td>\n",
              "      <td>MANUAL</td>\n",
              "      <td>rear wheel drive</td>\n",
              "      <td>2.0</td>\n",
              "      <td>Compact</td>\n",
              "      <td>Convertible</td>\n",
              "      <td>19</td>\n",
              "      <td>40650</td>\n",
              "      <td>3.02</td>\n",
              "    </tr>\n",
              "    <tr>\n",
              "      <th>2</th>\n",
              "      <td>1 Series</td>\n",
              "      <td>2011</td>\n",
              "      <td>300.0</td>\n",
              "      <td>MANUAL</td>\n",
              "      <td>rear wheel drive</td>\n",
              "      <td>2.0</td>\n",
              "      <td>Compact</td>\n",
              "      <td>Coupe</td>\n",
              "      <td>20</td>\n",
              "      <td>36350</td>\n",
              "      <td>3.02</td>\n",
              "    </tr>\n",
              "    <tr>\n",
              "      <th>3</th>\n",
              "      <td>1 Series</td>\n",
              "      <td>2011</td>\n",
              "      <td>230.0</td>\n",
              "      <td>MANUAL</td>\n",
              "      <td>rear wheel drive</td>\n",
              "      <td>2.0</td>\n",
              "      <td>Compact</td>\n",
              "      <td>Coupe</td>\n",
              "      <td>18</td>\n",
              "      <td>29450</td>\n",
              "      <td>3.02</td>\n",
              "    </tr>\n",
              "    <tr>\n",
              "      <th>4</th>\n",
              "      <td>1 Series</td>\n",
              "      <td>2011</td>\n",
              "      <td>230.0</td>\n",
              "      <td>MANUAL</td>\n",
              "      <td>rear wheel drive</td>\n",
              "      <td>2.0</td>\n",
              "      <td>Compact</td>\n",
              "      <td>Convertible</td>\n",
              "      <td>18</td>\n",
              "      <td>34500</td>\n",
              "      <td>3.02</td>\n",
              "    </tr>\n",
              "  </tbody>\n",
              "</table>\n",
              "</div>\n",
              "      <button class=\"colab-df-convert\" onclick=\"convertToInteractive('df-e89c15e1-f989-494c-97c2-a59392bada83')\"\n",
              "              title=\"Convert this dataframe to an interactive table.\"\n",
              "              style=\"display:none;\">\n",
              "        \n",
              "  <svg xmlns=\"http://www.w3.org/2000/svg\" height=\"24px\"viewBox=\"0 0 24 24\"\n",
              "       width=\"24px\">\n",
              "    <path d=\"M0 0h24v24H0V0z\" fill=\"none\"/>\n",
              "    <path d=\"M18.56 5.44l.94 2.06.94-2.06 2.06-.94-2.06-.94-.94-2.06-.94 2.06-2.06.94zm-11 1L8.5 8.5l.94-2.06 2.06-.94-2.06-.94L8.5 2.5l-.94 2.06-2.06.94zm10 10l.94 2.06.94-2.06 2.06-.94-2.06-.94-.94-2.06-.94 2.06-2.06.94z\"/><path d=\"M17.41 7.96l-1.37-1.37c-.4-.4-.92-.59-1.43-.59-.52 0-1.04.2-1.43.59L10.3 9.45l-7.72 7.72c-.78.78-.78 2.05 0 2.83L4 21.41c.39.39.9.59 1.41.59.51 0 1.02-.2 1.41-.59l7.78-7.78 2.81-2.81c.8-.78.8-2.07 0-2.86zM5.41 20L4 18.59l7.72-7.72 1.47 1.35L5.41 20z\"/>\n",
              "  </svg>\n",
              "      </button>\n",
              "      \n",
              "  <style>\n",
              "    .colab-df-container {\n",
              "      display:flex;\n",
              "      flex-wrap:wrap;\n",
              "      gap: 12px;\n",
              "    }\n",
              "\n",
              "    .colab-df-convert {\n",
              "      background-color: #E8F0FE;\n",
              "      border: none;\n",
              "      border-radius: 50%;\n",
              "      cursor: pointer;\n",
              "      display: none;\n",
              "      fill: #1967D2;\n",
              "      height: 32px;\n",
              "      padding: 0 0 0 0;\n",
              "      width: 32px;\n",
              "    }\n",
              "\n",
              "    .colab-df-convert:hover {\n",
              "      background-color: #E2EBFA;\n",
              "      box-shadow: 0px 1px 2px rgba(60, 64, 67, 0.3), 0px 1px 3px 1px rgba(60, 64, 67, 0.15);\n",
              "      fill: #174EA6;\n",
              "    }\n",
              "\n",
              "    [theme=dark] .colab-df-convert {\n",
              "      background-color: #3B4455;\n",
              "      fill: #D2E3FC;\n",
              "    }\n",
              "\n",
              "    [theme=dark] .colab-df-convert:hover {\n",
              "      background-color: #434B5C;\n",
              "      box-shadow: 0px 1px 3px 1px rgba(0, 0, 0, 0.15);\n",
              "      filter: drop-shadow(0px 1px 2px rgba(0, 0, 0, 0.3));\n",
              "      fill: #FFFFFF;\n",
              "    }\n",
              "  </style>\n",
              "\n",
              "      <script>\n",
              "        const buttonEl =\n",
              "          document.querySelector('#df-e89c15e1-f989-494c-97c2-a59392bada83 button.colab-df-convert');\n",
              "        buttonEl.style.display =\n",
              "          google.colab.kernel.accessAllowed ? 'block' : 'none';\n",
              "\n",
              "        async function convertToInteractive(key) {\n",
              "          const element = document.querySelector('#df-e89c15e1-f989-494c-97c2-a59392bada83');\n",
              "          const dataTable =\n",
              "            await google.colab.kernel.invokeFunction('convertToInteractive',\n",
              "                                                     [key], {});\n",
              "          if (!dataTable) return;\n",
              "\n",
              "          const docLinkHtml = 'Like what you see? Visit the ' +\n",
              "            '<a target=\"_blank\" href=https://colab.research.google.com/notebooks/data_table.ipynb>data table notebook</a>'\n",
              "            + ' to learn more about interactive tables.';\n",
              "          element.innerHTML = '';\n",
              "          dataTable['output_type'] = 'display_data';\n",
              "          await google.colab.output.renderOutput(dataTable, element);\n",
              "          const docLink = document.createElement('div');\n",
              "          docLink.innerHTML = docLinkHtml;\n",
              "          element.appendChild(docLink);\n",
              "        }\n",
              "      </script>\n",
              "    </div>\n",
              "  </div>\n",
              "  "
            ]
          },
          "metadata": {},
          "execution_count": 388
        }
      ]
    },
    {
      "cell_type": "markdown",
      "source": [
        "##**Encoding fitur Model**"
      ],
      "metadata": {
        "id": "x4JApfVEdR0L"
      }
    },
    {
      "cell_type": "markdown",
      "source": [
        "untuk fitur Model akan digunakan frequency encoding"
      ],
      "metadata": {
        "id": "eUKLo1eMdbaa"
      }
    },
    {
      "cell_type": "code",
      "source": [
        "freq_mdl = df['Model'].value_counts().reset_index()\n",
        "freq_mdl.rename(columns={'index': 'Model', 'Model': 'freq_Model'}, inplace = True)\n",
        "freq_mdl['pct_Model'] = round((freq_mdl['freq_Model']/freq_mdl['freq_Model'].sum())*100,2)\n",
        "\n",
        "df = df.merge(freq_mdl[['Model','pct_Model']], on='Model', how='inner')\n",
        "\n",
        "df = df.drop(['Model'], axis=1)\n",
        "\n",
        "df.head()"
      ],
      "metadata": {
        "colab": {
          "base_uri": "https://localhost:8080/",
          "height": 206
        },
        "id": "nIrXetGPddOP",
        "outputId": "0a9d16b8-a0d9-4fae-e961-9b5e7632703f"
      },
      "execution_count": 389,
      "outputs": [
        {
          "output_type": "execute_result",
          "data": {
            "text/plain": [
              "   Year  Engine_HP Transmission_Type     Driven_Wheels  Number_of_Doors  \\\n",
              "0  2011      335.0            MANUAL  rear wheel drive              2.0   \n",
              "1  2011      300.0            MANUAL  rear wheel drive              2.0   \n",
              "2  2011      300.0            MANUAL  rear wheel drive              2.0   \n",
              "3  2011      230.0            MANUAL  rear wheel drive              2.0   \n",
              "4  2011      230.0            MANUAL  rear wheel drive              2.0   \n",
              "\n",
              "  Vehicle_Size Vehicle_Style  city_MPG   MSRP  pct_Make  pct_Model  \n",
              "0      Compact         Coupe        19  46135      3.02       0.01  \n",
              "1      Compact   Convertible        19  40650      3.02       0.14  \n",
              "2      Compact         Coupe        20  36350      3.02       0.14  \n",
              "3      Compact         Coupe        18  29450      3.02       0.14  \n",
              "4      Compact   Convertible        18  34500      3.02       0.14  "
            ],
            "text/html": [
              "\n",
              "  <div id=\"df-e169330d-03a2-4115-8903-9aba8382c03c\">\n",
              "    <div class=\"colab-df-container\">\n",
              "      <div>\n",
              "<style scoped>\n",
              "    .dataframe tbody tr th:only-of-type {\n",
              "        vertical-align: middle;\n",
              "    }\n",
              "\n",
              "    .dataframe tbody tr th {\n",
              "        vertical-align: top;\n",
              "    }\n",
              "\n",
              "    .dataframe thead th {\n",
              "        text-align: right;\n",
              "    }\n",
              "</style>\n",
              "<table border=\"1\" class=\"dataframe\">\n",
              "  <thead>\n",
              "    <tr style=\"text-align: right;\">\n",
              "      <th></th>\n",
              "      <th>Year</th>\n",
              "      <th>Engine_HP</th>\n",
              "      <th>Transmission_Type</th>\n",
              "      <th>Driven_Wheels</th>\n",
              "      <th>Number_of_Doors</th>\n",
              "      <th>Vehicle_Size</th>\n",
              "      <th>Vehicle_Style</th>\n",
              "      <th>city_MPG</th>\n",
              "      <th>MSRP</th>\n",
              "      <th>pct_Make</th>\n",
              "      <th>pct_Model</th>\n",
              "    </tr>\n",
              "  </thead>\n",
              "  <tbody>\n",
              "    <tr>\n",
              "      <th>0</th>\n",
              "      <td>2011</td>\n",
              "      <td>335.0</td>\n",
              "      <td>MANUAL</td>\n",
              "      <td>rear wheel drive</td>\n",
              "      <td>2.0</td>\n",
              "      <td>Compact</td>\n",
              "      <td>Coupe</td>\n",
              "      <td>19</td>\n",
              "      <td>46135</td>\n",
              "      <td>3.02</td>\n",
              "      <td>0.01</td>\n",
              "    </tr>\n",
              "    <tr>\n",
              "      <th>1</th>\n",
              "      <td>2011</td>\n",
              "      <td>300.0</td>\n",
              "      <td>MANUAL</td>\n",
              "      <td>rear wheel drive</td>\n",
              "      <td>2.0</td>\n",
              "      <td>Compact</td>\n",
              "      <td>Convertible</td>\n",
              "      <td>19</td>\n",
              "      <td>40650</td>\n",
              "      <td>3.02</td>\n",
              "      <td>0.14</td>\n",
              "    </tr>\n",
              "    <tr>\n",
              "      <th>2</th>\n",
              "      <td>2011</td>\n",
              "      <td>300.0</td>\n",
              "      <td>MANUAL</td>\n",
              "      <td>rear wheel drive</td>\n",
              "      <td>2.0</td>\n",
              "      <td>Compact</td>\n",
              "      <td>Coupe</td>\n",
              "      <td>20</td>\n",
              "      <td>36350</td>\n",
              "      <td>3.02</td>\n",
              "      <td>0.14</td>\n",
              "    </tr>\n",
              "    <tr>\n",
              "      <th>3</th>\n",
              "      <td>2011</td>\n",
              "      <td>230.0</td>\n",
              "      <td>MANUAL</td>\n",
              "      <td>rear wheel drive</td>\n",
              "      <td>2.0</td>\n",
              "      <td>Compact</td>\n",
              "      <td>Coupe</td>\n",
              "      <td>18</td>\n",
              "      <td>29450</td>\n",
              "      <td>3.02</td>\n",
              "      <td>0.14</td>\n",
              "    </tr>\n",
              "    <tr>\n",
              "      <th>4</th>\n",
              "      <td>2011</td>\n",
              "      <td>230.0</td>\n",
              "      <td>MANUAL</td>\n",
              "      <td>rear wheel drive</td>\n",
              "      <td>2.0</td>\n",
              "      <td>Compact</td>\n",
              "      <td>Convertible</td>\n",
              "      <td>18</td>\n",
              "      <td>34500</td>\n",
              "      <td>3.02</td>\n",
              "      <td>0.14</td>\n",
              "    </tr>\n",
              "  </tbody>\n",
              "</table>\n",
              "</div>\n",
              "      <button class=\"colab-df-convert\" onclick=\"convertToInteractive('df-e169330d-03a2-4115-8903-9aba8382c03c')\"\n",
              "              title=\"Convert this dataframe to an interactive table.\"\n",
              "              style=\"display:none;\">\n",
              "        \n",
              "  <svg xmlns=\"http://www.w3.org/2000/svg\" height=\"24px\"viewBox=\"0 0 24 24\"\n",
              "       width=\"24px\">\n",
              "    <path d=\"M0 0h24v24H0V0z\" fill=\"none\"/>\n",
              "    <path d=\"M18.56 5.44l.94 2.06.94-2.06 2.06-.94-2.06-.94-.94-2.06-.94 2.06-2.06.94zm-11 1L8.5 8.5l.94-2.06 2.06-.94-2.06-.94L8.5 2.5l-.94 2.06-2.06.94zm10 10l.94 2.06.94-2.06 2.06-.94-2.06-.94-.94-2.06-.94 2.06-2.06.94z\"/><path d=\"M17.41 7.96l-1.37-1.37c-.4-.4-.92-.59-1.43-.59-.52 0-1.04.2-1.43.59L10.3 9.45l-7.72 7.72c-.78.78-.78 2.05 0 2.83L4 21.41c.39.39.9.59 1.41.59.51 0 1.02-.2 1.41-.59l7.78-7.78 2.81-2.81c.8-.78.8-2.07 0-2.86zM5.41 20L4 18.59l7.72-7.72 1.47 1.35L5.41 20z\"/>\n",
              "  </svg>\n",
              "      </button>\n",
              "      \n",
              "  <style>\n",
              "    .colab-df-container {\n",
              "      display:flex;\n",
              "      flex-wrap:wrap;\n",
              "      gap: 12px;\n",
              "    }\n",
              "\n",
              "    .colab-df-convert {\n",
              "      background-color: #E8F0FE;\n",
              "      border: none;\n",
              "      border-radius: 50%;\n",
              "      cursor: pointer;\n",
              "      display: none;\n",
              "      fill: #1967D2;\n",
              "      height: 32px;\n",
              "      padding: 0 0 0 0;\n",
              "      width: 32px;\n",
              "    }\n",
              "\n",
              "    .colab-df-convert:hover {\n",
              "      background-color: #E2EBFA;\n",
              "      box-shadow: 0px 1px 2px rgba(60, 64, 67, 0.3), 0px 1px 3px 1px rgba(60, 64, 67, 0.15);\n",
              "      fill: #174EA6;\n",
              "    }\n",
              "\n",
              "    [theme=dark] .colab-df-convert {\n",
              "      background-color: #3B4455;\n",
              "      fill: #D2E3FC;\n",
              "    }\n",
              "\n",
              "    [theme=dark] .colab-df-convert:hover {\n",
              "      background-color: #434B5C;\n",
              "      box-shadow: 0px 1px 3px 1px rgba(0, 0, 0, 0.15);\n",
              "      filter: drop-shadow(0px 1px 2px rgba(0, 0, 0, 0.3));\n",
              "      fill: #FFFFFF;\n",
              "    }\n",
              "  </style>\n",
              "\n",
              "      <script>\n",
              "        const buttonEl =\n",
              "          document.querySelector('#df-e169330d-03a2-4115-8903-9aba8382c03c button.colab-df-convert');\n",
              "        buttonEl.style.display =\n",
              "          google.colab.kernel.accessAllowed ? 'block' : 'none';\n",
              "\n",
              "        async function convertToInteractive(key) {\n",
              "          const element = document.querySelector('#df-e169330d-03a2-4115-8903-9aba8382c03c');\n",
              "          const dataTable =\n",
              "            await google.colab.kernel.invokeFunction('convertToInteractive',\n",
              "                                                     [key], {});\n",
              "          if (!dataTable) return;\n",
              "\n",
              "          const docLinkHtml = 'Like what you see? Visit the ' +\n",
              "            '<a target=\"_blank\" href=https://colab.research.google.com/notebooks/data_table.ipynb>data table notebook</a>'\n",
              "            + ' to learn more about interactive tables.';\n",
              "          element.innerHTML = '';\n",
              "          dataTable['output_type'] = 'display_data';\n",
              "          await google.colab.output.renderOutput(dataTable, element);\n",
              "          const docLink = document.createElement('div');\n",
              "          docLink.innerHTML = docLinkHtml;\n",
              "          element.appendChild(docLink);\n",
              "        }\n",
              "      </script>\n",
              "    </div>\n",
              "  </div>\n",
              "  "
            ]
          },
          "metadata": {},
          "execution_count": 389
        }
      ]
    },
    {
      "cell_type": "markdown",
      "source": [
        "##**Encoding fitur Transmission_Type**"
      ],
      "metadata": {
        "id": "QZq9O78WghG0"
      }
    },
    {
      "cell_type": "markdown",
      "source": [
        "untuk fitur Transmission_Type akan digunakan ordinal encoding"
      ],
      "metadata": {
        "id": "-knymnVFgmGT"
      }
    },
    {
      "cell_type": "code",
      "source": [
        "map_Transmission_Type = {'UNKNOWN':1,\n",
        "                     'DIRECT_DRIVE':2,\n",
        "                     'MANUAL':3,\n",
        "                     'AUTOMATIC':4,\n",
        "                     'AUTOMATED_MANUAL':5}\n",
        "df['Transmission_Type_cat'] = df['Transmission_Type'].map(map_Transmission_Type)\n",
        "\n",
        "df = df.drop(['Transmission_Type'], axis=1)\n",
        "\n",
        "df.head()"
      ],
      "metadata": {
        "colab": {
          "base_uri": "https://localhost:8080/",
          "height": 206
        },
        "id": "GUxKTwXjgkiQ",
        "outputId": "fb44c0e3-c62f-4d20-fa90-a11d26435b01"
      },
      "execution_count": 390,
      "outputs": [
        {
          "output_type": "execute_result",
          "data": {
            "text/plain": [
              "   Year  Engine_HP     Driven_Wheels  Number_of_Doors Vehicle_Size  \\\n",
              "0  2011      335.0  rear wheel drive              2.0      Compact   \n",
              "1  2011      300.0  rear wheel drive              2.0      Compact   \n",
              "2  2011      300.0  rear wheel drive              2.0      Compact   \n",
              "3  2011      230.0  rear wheel drive              2.0      Compact   \n",
              "4  2011      230.0  rear wheel drive              2.0      Compact   \n",
              "\n",
              "  Vehicle_Style  city_MPG   MSRP  pct_Make  pct_Model  Transmission_Type_cat  \n",
              "0         Coupe        19  46135      3.02       0.01                      3  \n",
              "1   Convertible        19  40650      3.02       0.14                      3  \n",
              "2         Coupe        20  36350      3.02       0.14                      3  \n",
              "3         Coupe        18  29450      3.02       0.14                      3  \n",
              "4   Convertible        18  34500      3.02       0.14                      3  "
            ],
            "text/html": [
              "\n",
              "  <div id=\"df-120bb916-5ff2-4427-b8ca-209a7759e831\">\n",
              "    <div class=\"colab-df-container\">\n",
              "      <div>\n",
              "<style scoped>\n",
              "    .dataframe tbody tr th:only-of-type {\n",
              "        vertical-align: middle;\n",
              "    }\n",
              "\n",
              "    .dataframe tbody tr th {\n",
              "        vertical-align: top;\n",
              "    }\n",
              "\n",
              "    .dataframe thead th {\n",
              "        text-align: right;\n",
              "    }\n",
              "</style>\n",
              "<table border=\"1\" class=\"dataframe\">\n",
              "  <thead>\n",
              "    <tr style=\"text-align: right;\">\n",
              "      <th></th>\n",
              "      <th>Year</th>\n",
              "      <th>Engine_HP</th>\n",
              "      <th>Driven_Wheels</th>\n",
              "      <th>Number_of_Doors</th>\n",
              "      <th>Vehicle_Size</th>\n",
              "      <th>Vehicle_Style</th>\n",
              "      <th>city_MPG</th>\n",
              "      <th>MSRP</th>\n",
              "      <th>pct_Make</th>\n",
              "      <th>pct_Model</th>\n",
              "      <th>Transmission_Type_cat</th>\n",
              "    </tr>\n",
              "  </thead>\n",
              "  <tbody>\n",
              "    <tr>\n",
              "      <th>0</th>\n",
              "      <td>2011</td>\n",
              "      <td>335.0</td>\n",
              "      <td>rear wheel drive</td>\n",
              "      <td>2.0</td>\n",
              "      <td>Compact</td>\n",
              "      <td>Coupe</td>\n",
              "      <td>19</td>\n",
              "      <td>46135</td>\n",
              "      <td>3.02</td>\n",
              "      <td>0.01</td>\n",
              "      <td>3</td>\n",
              "    </tr>\n",
              "    <tr>\n",
              "      <th>1</th>\n",
              "      <td>2011</td>\n",
              "      <td>300.0</td>\n",
              "      <td>rear wheel drive</td>\n",
              "      <td>2.0</td>\n",
              "      <td>Compact</td>\n",
              "      <td>Convertible</td>\n",
              "      <td>19</td>\n",
              "      <td>40650</td>\n",
              "      <td>3.02</td>\n",
              "      <td>0.14</td>\n",
              "      <td>3</td>\n",
              "    </tr>\n",
              "    <tr>\n",
              "      <th>2</th>\n",
              "      <td>2011</td>\n",
              "      <td>300.0</td>\n",
              "      <td>rear wheel drive</td>\n",
              "      <td>2.0</td>\n",
              "      <td>Compact</td>\n",
              "      <td>Coupe</td>\n",
              "      <td>20</td>\n",
              "      <td>36350</td>\n",
              "      <td>3.02</td>\n",
              "      <td>0.14</td>\n",
              "      <td>3</td>\n",
              "    </tr>\n",
              "    <tr>\n",
              "      <th>3</th>\n",
              "      <td>2011</td>\n",
              "      <td>230.0</td>\n",
              "      <td>rear wheel drive</td>\n",
              "      <td>2.0</td>\n",
              "      <td>Compact</td>\n",
              "      <td>Coupe</td>\n",
              "      <td>18</td>\n",
              "      <td>29450</td>\n",
              "      <td>3.02</td>\n",
              "      <td>0.14</td>\n",
              "      <td>3</td>\n",
              "    </tr>\n",
              "    <tr>\n",
              "      <th>4</th>\n",
              "      <td>2011</td>\n",
              "      <td>230.0</td>\n",
              "      <td>rear wheel drive</td>\n",
              "      <td>2.0</td>\n",
              "      <td>Compact</td>\n",
              "      <td>Convertible</td>\n",
              "      <td>18</td>\n",
              "      <td>34500</td>\n",
              "      <td>3.02</td>\n",
              "      <td>0.14</td>\n",
              "      <td>3</td>\n",
              "    </tr>\n",
              "  </tbody>\n",
              "</table>\n",
              "</div>\n",
              "      <button class=\"colab-df-convert\" onclick=\"convertToInteractive('df-120bb916-5ff2-4427-b8ca-209a7759e831')\"\n",
              "              title=\"Convert this dataframe to an interactive table.\"\n",
              "              style=\"display:none;\">\n",
              "        \n",
              "  <svg xmlns=\"http://www.w3.org/2000/svg\" height=\"24px\"viewBox=\"0 0 24 24\"\n",
              "       width=\"24px\">\n",
              "    <path d=\"M0 0h24v24H0V0z\" fill=\"none\"/>\n",
              "    <path d=\"M18.56 5.44l.94 2.06.94-2.06 2.06-.94-2.06-.94-.94-2.06-.94 2.06-2.06.94zm-11 1L8.5 8.5l.94-2.06 2.06-.94-2.06-.94L8.5 2.5l-.94 2.06-2.06.94zm10 10l.94 2.06.94-2.06 2.06-.94-2.06-.94-.94-2.06-.94 2.06-2.06.94z\"/><path d=\"M17.41 7.96l-1.37-1.37c-.4-.4-.92-.59-1.43-.59-.52 0-1.04.2-1.43.59L10.3 9.45l-7.72 7.72c-.78.78-.78 2.05 0 2.83L4 21.41c.39.39.9.59 1.41.59.51 0 1.02-.2 1.41-.59l7.78-7.78 2.81-2.81c.8-.78.8-2.07 0-2.86zM5.41 20L4 18.59l7.72-7.72 1.47 1.35L5.41 20z\"/>\n",
              "  </svg>\n",
              "      </button>\n",
              "      \n",
              "  <style>\n",
              "    .colab-df-container {\n",
              "      display:flex;\n",
              "      flex-wrap:wrap;\n",
              "      gap: 12px;\n",
              "    }\n",
              "\n",
              "    .colab-df-convert {\n",
              "      background-color: #E8F0FE;\n",
              "      border: none;\n",
              "      border-radius: 50%;\n",
              "      cursor: pointer;\n",
              "      display: none;\n",
              "      fill: #1967D2;\n",
              "      height: 32px;\n",
              "      padding: 0 0 0 0;\n",
              "      width: 32px;\n",
              "    }\n",
              "\n",
              "    .colab-df-convert:hover {\n",
              "      background-color: #E2EBFA;\n",
              "      box-shadow: 0px 1px 2px rgba(60, 64, 67, 0.3), 0px 1px 3px 1px rgba(60, 64, 67, 0.15);\n",
              "      fill: #174EA6;\n",
              "    }\n",
              "\n",
              "    [theme=dark] .colab-df-convert {\n",
              "      background-color: #3B4455;\n",
              "      fill: #D2E3FC;\n",
              "    }\n",
              "\n",
              "    [theme=dark] .colab-df-convert:hover {\n",
              "      background-color: #434B5C;\n",
              "      box-shadow: 0px 1px 3px 1px rgba(0, 0, 0, 0.15);\n",
              "      filter: drop-shadow(0px 1px 2px rgba(0, 0, 0, 0.3));\n",
              "      fill: #FFFFFF;\n",
              "    }\n",
              "  </style>\n",
              "\n",
              "      <script>\n",
              "        const buttonEl =\n",
              "          document.querySelector('#df-120bb916-5ff2-4427-b8ca-209a7759e831 button.colab-df-convert');\n",
              "        buttonEl.style.display =\n",
              "          google.colab.kernel.accessAllowed ? 'block' : 'none';\n",
              "\n",
              "        async function convertToInteractive(key) {\n",
              "          const element = document.querySelector('#df-120bb916-5ff2-4427-b8ca-209a7759e831');\n",
              "          const dataTable =\n",
              "            await google.colab.kernel.invokeFunction('convertToInteractive',\n",
              "                                                     [key], {});\n",
              "          if (!dataTable) return;\n",
              "\n",
              "          const docLinkHtml = 'Like what you see? Visit the ' +\n",
              "            '<a target=\"_blank\" href=https://colab.research.google.com/notebooks/data_table.ipynb>data table notebook</a>'\n",
              "            + ' to learn more about interactive tables.';\n",
              "          element.innerHTML = '';\n",
              "          dataTable['output_type'] = 'display_data';\n",
              "          await google.colab.output.renderOutput(dataTable, element);\n",
              "          const docLink = document.createElement('div');\n",
              "          docLink.innerHTML = docLinkHtml;\n",
              "          element.appendChild(docLink);\n",
              "        }\n",
              "      </script>\n",
              "    </div>\n",
              "  </div>\n",
              "  "
            ]
          },
          "metadata": {},
          "execution_count": 390
        }
      ]
    },
    {
      "cell_type": "code",
      "source": [
        "df.Transmission_Type_cat.value_counts()"
      ],
      "metadata": {
        "colab": {
          "base_uri": "https://localhost:8080/"
        },
        "id": "gwc9ksbPhSWX",
        "outputId": "329f508b-4e1c-4dd5-a100-8d0adb801de2"
      },
      "execution_count": 391,
      "outputs": [
        {
          "output_type": "execute_result",
          "data": {
            "text/plain": [
              "4    7593\n",
              "3    2569\n",
              "5     431\n",
              "1      12\n",
              "Name: Transmission_Type_cat, dtype: int64"
            ]
          },
          "metadata": {},
          "execution_count": 391
        }
      ]
    },
    {
      "cell_type": "markdown",
      "source": [
        "##**Encoding fitur Driven_Wheels**"
      ],
      "metadata": {
        "id": "fJXcnTpFiT86"
      }
    },
    {
      "cell_type": "markdown",
      "source": [
        "untuk fitur Driven_Wheels akan digunakan ordinal encoding"
      ],
      "metadata": {
        "id": "xwjsEVglicdz"
      }
    },
    {
      "cell_type": "code",
      "source": [
        "map_Driven_Wheels = {'all wheel drive':1,\n",
        "                     'four wheel drive':2,\n",
        "                     'rear wheel drive':3,\n",
        "                     'front wheel drive':4\n",
        "                     }\n",
        "df['Driven_Wheels_cat'] = df['Driven_Wheels'].map(map_Driven_Wheels)\n",
        "\n",
        "df = df.drop(['Driven_Wheels'], axis=1)\n",
        "\n",
        "df.head()"
      ],
      "metadata": {
        "colab": {
          "base_uri": "https://localhost:8080/",
          "height": 206
        },
        "id": "bfxrpOkyiptA",
        "outputId": "52a100f0-7d79-4826-fe23-64a756dc92f7"
      },
      "execution_count": 392,
      "outputs": [
        {
          "output_type": "execute_result",
          "data": {
            "text/plain": [
              "   Year  Engine_HP  Number_of_Doors Vehicle_Size Vehicle_Style  city_MPG  \\\n",
              "0  2011      335.0              2.0      Compact         Coupe        19   \n",
              "1  2011      300.0              2.0      Compact   Convertible        19   \n",
              "2  2011      300.0              2.0      Compact         Coupe        20   \n",
              "3  2011      230.0              2.0      Compact         Coupe        18   \n",
              "4  2011      230.0              2.0      Compact   Convertible        18   \n",
              "\n",
              "    MSRP  pct_Make  pct_Model  Transmission_Type_cat  Driven_Wheels_cat  \n",
              "0  46135      3.02       0.01                      3                  3  \n",
              "1  40650      3.02       0.14                      3                  3  \n",
              "2  36350      3.02       0.14                      3                  3  \n",
              "3  29450      3.02       0.14                      3                  3  \n",
              "4  34500      3.02       0.14                      3                  3  "
            ],
            "text/html": [
              "\n",
              "  <div id=\"df-57d7018e-387e-4a65-900a-df4baa33e209\">\n",
              "    <div class=\"colab-df-container\">\n",
              "      <div>\n",
              "<style scoped>\n",
              "    .dataframe tbody tr th:only-of-type {\n",
              "        vertical-align: middle;\n",
              "    }\n",
              "\n",
              "    .dataframe tbody tr th {\n",
              "        vertical-align: top;\n",
              "    }\n",
              "\n",
              "    .dataframe thead th {\n",
              "        text-align: right;\n",
              "    }\n",
              "</style>\n",
              "<table border=\"1\" class=\"dataframe\">\n",
              "  <thead>\n",
              "    <tr style=\"text-align: right;\">\n",
              "      <th></th>\n",
              "      <th>Year</th>\n",
              "      <th>Engine_HP</th>\n",
              "      <th>Number_of_Doors</th>\n",
              "      <th>Vehicle_Size</th>\n",
              "      <th>Vehicle_Style</th>\n",
              "      <th>city_MPG</th>\n",
              "      <th>MSRP</th>\n",
              "      <th>pct_Make</th>\n",
              "      <th>pct_Model</th>\n",
              "      <th>Transmission_Type_cat</th>\n",
              "      <th>Driven_Wheels_cat</th>\n",
              "    </tr>\n",
              "  </thead>\n",
              "  <tbody>\n",
              "    <tr>\n",
              "      <th>0</th>\n",
              "      <td>2011</td>\n",
              "      <td>335.0</td>\n",
              "      <td>2.0</td>\n",
              "      <td>Compact</td>\n",
              "      <td>Coupe</td>\n",
              "      <td>19</td>\n",
              "      <td>46135</td>\n",
              "      <td>3.02</td>\n",
              "      <td>0.01</td>\n",
              "      <td>3</td>\n",
              "      <td>3</td>\n",
              "    </tr>\n",
              "    <tr>\n",
              "      <th>1</th>\n",
              "      <td>2011</td>\n",
              "      <td>300.0</td>\n",
              "      <td>2.0</td>\n",
              "      <td>Compact</td>\n",
              "      <td>Convertible</td>\n",
              "      <td>19</td>\n",
              "      <td>40650</td>\n",
              "      <td>3.02</td>\n",
              "      <td>0.14</td>\n",
              "      <td>3</td>\n",
              "      <td>3</td>\n",
              "    </tr>\n",
              "    <tr>\n",
              "      <th>2</th>\n",
              "      <td>2011</td>\n",
              "      <td>300.0</td>\n",
              "      <td>2.0</td>\n",
              "      <td>Compact</td>\n",
              "      <td>Coupe</td>\n",
              "      <td>20</td>\n",
              "      <td>36350</td>\n",
              "      <td>3.02</td>\n",
              "      <td>0.14</td>\n",
              "      <td>3</td>\n",
              "      <td>3</td>\n",
              "    </tr>\n",
              "    <tr>\n",
              "      <th>3</th>\n",
              "      <td>2011</td>\n",
              "      <td>230.0</td>\n",
              "      <td>2.0</td>\n",
              "      <td>Compact</td>\n",
              "      <td>Coupe</td>\n",
              "      <td>18</td>\n",
              "      <td>29450</td>\n",
              "      <td>3.02</td>\n",
              "      <td>0.14</td>\n",
              "      <td>3</td>\n",
              "      <td>3</td>\n",
              "    </tr>\n",
              "    <tr>\n",
              "      <th>4</th>\n",
              "      <td>2011</td>\n",
              "      <td>230.0</td>\n",
              "      <td>2.0</td>\n",
              "      <td>Compact</td>\n",
              "      <td>Convertible</td>\n",
              "      <td>18</td>\n",
              "      <td>34500</td>\n",
              "      <td>3.02</td>\n",
              "      <td>0.14</td>\n",
              "      <td>3</td>\n",
              "      <td>3</td>\n",
              "    </tr>\n",
              "  </tbody>\n",
              "</table>\n",
              "</div>\n",
              "      <button class=\"colab-df-convert\" onclick=\"convertToInteractive('df-57d7018e-387e-4a65-900a-df4baa33e209')\"\n",
              "              title=\"Convert this dataframe to an interactive table.\"\n",
              "              style=\"display:none;\">\n",
              "        \n",
              "  <svg xmlns=\"http://www.w3.org/2000/svg\" height=\"24px\"viewBox=\"0 0 24 24\"\n",
              "       width=\"24px\">\n",
              "    <path d=\"M0 0h24v24H0V0z\" fill=\"none\"/>\n",
              "    <path d=\"M18.56 5.44l.94 2.06.94-2.06 2.06-.94-2.06-.94-.94-2.06-.94 2.06-2.06.94zm-11 1L8.5 8.5l.94-2.06 2.06-.94-2.06-.94L8.5 2.5l-.94 2.06-2.06.94zm10 10l.94 2.06.94-2.06 2.06-.94-2.06-.94-.94-2.06-.94 2.06-2.06.94z\"/><path d=\"M17.41 7.96l-1.37-1.37c-.4-.4-.92-.59-1.43-.59-.52 0-1.04.2-1.43.59L10.3 9.45l-7.72 7.72c-.78.78-.78 2.05 0 2.83L4 21.41c.39.39.9.59 1.41.59.51 0 1.02-.2 1.41-.59l7.78-7.78 2.81-2.81c.8-.78.8-2.07 0-2.86zM5.41 20L4 18.59l7.72-7.72 1.47 1.35L5.41 20z\"/>\n",
              "  </svg>\n",
              "      </button>\n",
              "      \n",
              "  <style>\n",
              "    .colab-df-container {\n",
              "      display:flex;\n",
              "      flex-wrap:wrap;\n",
              "      gap: 12px;\n",
              "    }\n",
              "\n",
              "    .colab-df-convert {\n",
              "      background-color: #E8F0FE;\n",
              "      border: none;\n",
              "      border-radius: 50%;\n",
              "      cursor: pointer;\n",
              "      display: none;\n",
              "      fill: #1967D2;\n",
              "      height: 32px;\n",
              "      padding: 0 0 0 0;\n",
              "      width: 32px;\n",
              "    }\n",
              "\n",
              "    .colab-df-convert:hover {\n",
              "      background-color: #E2EBFA;\n",
              "      box-shadow: 0px 1px 2px rgba(60, 64, 67, 0.3), 0px 1px 3px 1px rgba(60, 64, 67, 0.15);\n",
              "      fill: #174EA6;\n",
              "    }\n",
              "\n",
              "    [theme=dark] .colab-df-convert {\n",
              "      background-color: #3B4455;\n",
              "      fill: #D2E3FC;\n",
              "    }\n",
              "\n",
              "    [theme=dark] .colab-df-convert:hover {\n",
              "      background-color: #434B5C;\n",
              "      box-shadow: 0px 1px 3px 1px rgba(0, 0, 0, 0.15);\n",
              "      filter: drop-shadow(0px 1px 2px rgba(0, 0, 0, 0.3));\n",
              "      fill: #FFFFFF;\n",
              "    }\n",
              "  </style>\n",
              "\n",
              "      <script>\n",
              "        const buttonEl =\n",
              "          document.querySelector('#df-57d7018e-387e-4a65-900a-df4baa33e209 button.colab-df-convert');\n",
              "        buttonEl.style.display =\n",
              "          google.colab.kernel.accessAllowed ? 'block' : 'none';\n",
              "\n",
              "        async function convertToInteractive(key) {\n",
              "          const element = document.querySelector('#df-57d7018e-387e-4a65-900a-df4baa33e209');\n",
              "          const dataTable =\n",
              "            await google.colab.kernel.invokeFunction('convertToInteractive',\n",
              "                                                     [key], {});\n",
              "          if (!dataTable) return;\n",
              "\n",
              "          const docLinkHtml = 'Like what you see? Visit the ' +\n",
              "            '<a target=\"_blank\" href=https://colab.research.google.com/notebooks/data_table.ipynb>data table notebook</a>'\n",
              "            + ' to learn more about interactive tables.';\n",
              "          element.innerHTML = '';\n",
              "          dataTable['output_type'] = 'display_data';\n",
              "          await google.colab.output.renderOutput(dataTable, element);\n",
              "          const docLink = document.createElement('div');\n",
              "          docLink.innerHTML = docLinkHtml;\n",
              "          element.appendChild(docLink);\n",
              "        }\n",
              "      </script>\n",
              "    </div>\n",
              "  </div>\n",
              "  "
            ]
          },
          "metadata": {},
          "execution_count": 392
        }
      ]
    },
    {
      "cell_type": "code",
      "source": [
        "df.Driven_Wheels_cat.value_counts()"
      ],
      "metadata": {
        "colab": {
          "base_uri": "https://localhost:8080/"
        },
        "id": "1YAmvLoriinU",
        "outputId": "a755bd36-3de4-48dd-e3b7-9ffdcae0b738"
      },
      "execution_count": 393,
      "outputs": [
        {
          "output_type": "execute_result",
          "data": {
            "text/plain": [
              "4    4235\n",
              "3    2937\n",
              "1    2166\n",
              "2    1267\n",
              "Name: Driven_Wheels_cat, dtype: int64"
            ]
          },
          "metadata": {},
          "execution_count": 393
        }
      ]
    },
    {
      "cell_type": "markdown",
      "source": [
        "##**Encoding fitur Vehicle_Size**"
      ],
      "metadata": {
        "id": "wfOAA4FZi-19"
      }
    },
    {
      "cell_type": "markdown",
      "source": [
        "untuk fitur Vehicle_Size akan digunakan ordinal encoding"
      ],
      "metadata": {
        "id": "jWmP73gVj2Wi"
      }
    },
    {
      "cell_type": "code",
      "source": [
        "map_Vehicle_Size = {'Compact':1,\n",
        "                     'Midsize':2,\n",
        "                     'Large':3}\n",
        "df['Vehicle_Size_cat'] = df['Vehicle_Size'].map(map_Vehicle_Size)\n",
        "\n",
        "df = df.drop(['Vehicle_Size'], axis=1)\n",
        "\n",
        "df.head()"
      ],
      "metadata": {
        "colab": {
          "base_uri": "https://localhost:8080/",
          "height": 206
        },
        "id": "ckWqmlnMklIX",
        "outputId": "8b5318f0-97e4-4e36-8e00-7b3d8116a687"
      },
      "execution_count": 394,
      "outputs": [
        {
          "output_type": "execute_result",
          "data": {
            "text/plain": [
              "   Year  Engine_HP  Number_of_Doors Vehicle_Style  city_MPG   MSRP  pct_Make  \\\n",
              "0  2011      335.0              2.0         Coupe        19  46135      3.02   \n",
              "1  2011      300.0              2.0   Convertible        19  40650      3.02   \n",
              "2  2011      300.0              2.0         Coupe        20  36350      3.02   \n",
              "3  2011      230.0              2.0         Coupe        18  29450      3.02   \n",
              "4  2011      230.0              2.0   Convertible        18  34500      3.02   \n",
              "\n",
              "   pct_Model  Transmission_Type_cat  Driven_Wheels_cat  Vehicle_Size_cat  \n",
              "0       0.01                      3                  3                 1  \n",
              "1       0.14                      3                  3                 1  \n",
              "2       0.14                      3                  3                 1  \n",
              "3       0.14                      3                  3                 1  \n",
              "4       0.14                      3                  3                 1  "
            ],
            "text/html": [
              "\n",
              "  <div id=\"df-e214a260-5b05-47da-8f1b-bcaa95d96bf7\">\n",
              "    <div class=\"colab-df-container\">\n",
              "      <div>\n",
              "<style scoped>\n",
              "    .dataframe tbody tr th:only-of-type {\n",
              "        vertical-align: middle;\n",
              "    }\n",
              "\n",
              "    .dataframe tbody tr th {\n",
              "        vertical-align: top;\n",
              "    }\n",
              "\n",
              "    .dataframe thead th {\n",
              "        text-align: right;\n",
              "    }\n",
              "</style>\n",
              "<table border=\"1\" class=\"dataframe\">\n",
              "  <thead>\n",
              "    <tr style=\"text-align: right;\">\n",
              "      <th></th>\n",
              "      <th>Year</th>\n",
              "      <th>Engine_HP</th>\n",
              "      <th>Number_of_Doors</th>\n",
              "      <th>Vehicle_Style</th>\n",
              "      <th>city_MPG</th>\n",
              "      <th>MSRP</th>\n",
              "      <th>pct_Make</th>\n",
              "      <th>pct_Model</th>\n",
              "      <th>Transmission_Type_cat</th>\n",
              "      <th>Driven_Wheels_cat</th>\n",
              "      <th>Vehicle_Size_cat</th>\n",
              "    </tr>\n",
              "  </thead>\n",
              "  <tbody>\n",
              "    <tr>\n",
              "      <th>0</th>\n",
              "      <td>2011</td>\n",
              "      <td>335.0</td>\n",
              "      <td>2.0</td>\n",
              "      <td>Coupe</td>\n",
              "      <td>19</td>\n",
              "      <td>46135</td>\n",
              "      <td>3.02</td>\n",
              "      <td>0.01</td>\n",
              "      <td>3</td>\n",
              "      <td>3</td>\n",
              "      <td>1</td>\n",
              "    </tr>\n",
              "    <tr>\n",
              "      <th>1</th>\n",
              "      <td>2011</td>\n",
              "      <td>300.0</td>\n",
              "      <td>2.0</td>\n",
              "      <td>Convertible</td>\n",
              "      <td>19</td>\n",
              "      <td>40650</td>\n",
              "      <td>3.02</td>\n",
              "      <td>0.14</td>\n",
              "      <td>3</td>\n",
              "      <td>3</td>\n",
              "      <td>1</td>\n",
              "    </tr>\n",
              "    <tr>\n",
              "      <th>2</th>\n",
              "      <td>2011</td>\n",
              "      <td>300.0</td>\n",
              "      <td>2.0</td>\n",
              "      <td>Coupe</td>\n",
              "      <td>20</td>\n",
              "      <td>36350</td>\n",
              "      <td>3.02</td>\n",
              "      <td>0.14</td>\n",
              "      <td>3</td>\n",
              "      <td>3</td>\n",
              "      <td>1</td>\n",
              "    </tr>\n",
              "    <tr>\n",
              "      <th>3</th>\n",
              "      <td>2011</td>\n",
              "      <td>230.0</td>\n",
              "      <td>2.0</td>\n",
              "      <td>Coupe</td>\n",
              "      <td>18</td>\n",
              "      <td>29450</td>\n",
              "      <td>3.02</td>\n",
              "      <td>0.14</td>\n",
              "      <td>3</td>\n",
              "      <td>3</td>\n",
              "      <td>1</td>\n",
              "    </tr>\n",
              "    <tr>\n",
              "      <th>4</th>\n",
              "      <td>2011</td>\n",
              "      <td>230.0</td>\n",
              "      <td>2.0</td>\n",
              "      <td>Convertible</td>\n",
              "      <td>18</td>\n",
              "      <td>34500</td>\n",
              "      <td>3.02</td>\n",
              "      <td>0.14</td>\n",
              "      <td>3</td>\n",
              "      <td>3</td>\n",
              "      <td>1</td>\n",
              "    </tr>\n",
              "  </tbody>\n",
              "</table>\n",
              "</div>\n",
              "      <button class=\"colab-df-convert\" onclick=\"convertToInteractive('df-e214a260-5b05-47da-8f1b-bcaa95d96bf7')\"\n",
              "              title=\"Convert this dataframe to an interactive table.\"\n",
              "              style=\"display:none;\">\n",
              "        \n",
              "  <svg xmlns=\"http://www.w3.org/2000/svg\" height=\"24px\"viewBox=\"0 0 24 24\"\n",
              "       width=\"24px\">\n",
              "    <path d=\"M0 0h24v24H0V0z\" fill=\"none\"/>\n",
              "    <path d=\"M18.56 5.44l.94 2.06.94-2.06 2.06-.94-2.06-.94-.94-2.06-.94 2.06-2.06.94zm-11 1L8.5 8.5l.94-2.06 2.06-.94-2.06-.94L8.5 2.5l-.94 2.06-2.06.94zm10 10l.94 2.06.94-2.06 2.06-.94-2.06-.94-.94-2.06-.94 2.06-2.06.94z\"/><path d=\"M17.41 7.96l-1.37-1.37c-.4-.4-.92-.59-1.43-.59-.52 0-1.04.2-1.43.59L10.3 9.45l-7.72 7.72c-.78.78-.78 2.05 0 2.83L4 21.41c.39.39.9.59 1.41.59.51 0 1.02-.2 1.41-.59l7.78-7.78 2.81-2.81c.8-.78.8-2.07 0-2.86zM5.41 20L4 18.59l7.72-7.72 1.47 1.35L5.41 20z\"/>\n",
              "  </svg>\n",
              "      </button>\n",
              "      \n",
              "  <style>\n",
              "    .colab-df-container {\n",
              "      display:flex;\n",
              "      flex-wrap:wrap;\n",
              "      gap: 12px;\n",
              "    }\n",
              "\n",
              "    .colab-df-convert {\n",
              "      background-color: #E8F0FE;\n",
              "      border: none;\n",
              "      border-radius: 50%;\n",
              "      cursor: pointer;\n",
              "      display: none;\n",
              "      fill: #1967D2;\n",
              "      height: 32px;\n",
              "      padding: 0 0 0 0;\n",
              "      width: 32px;\n",
              "    }\n",
              "\n",
              "    .colab-df-convert:hover {\n",
              "      background-color: #E2EBFA;\n",
              "      box-shadow: 0px 1px 2px rgba(60, 64, 67, 0.3), 0px 1px 3px 1px rgba(60, 64, 67, 0.15);\n",
              "      fill: #174EA6;\n",
              "    }\n",
              "\n",
              "    [theme=dark] .colab-df-convert {\n",
              "      background-color: #3B4455;\n",
              "      fill: #D2E3FC;\n",
              "    }\n",
              "\n",
              "    [theme=dark] .colab-df-convert:hover {\n",
              "      background-color: #434B5C;\n",
              "      box-shadow: 0px 1px 3px 1px rgba(0, 0, 0, 0.15);\n",
              "      filter: drop-shadow(0px 1px 2px rgba(0, 0, 0, 0.3));\n",
              "      fill: #FFFFFF;\n",
              "    }\n",
              "  </style>\n",
              "\n",
              "      <script>\n",
              "        const buttonEl =\n",
              "          document.querySelector('#df-e214a260-5b05-47da-8f1b-bcaa95d96bf7 button.colab-df-convert');\n",
              "        buttonEl.style.display =\n",
              "          google.colab.kernel.accessAllowed ? 'block' : 'none';\n",
              "\n",
              "        async function convertToInteractive(key) {\n",
              "          const element = document.querySelector('#df-e214a260-5b05-47da-8f1b-bcaa95d96bf7');\n",
              "          const dataTable =\n",
              "            await google.colab.kernel.invokeFunction('convertToInteractive',\n",
              "                                                     [key], {});\n",
              "          if (!dataTable) return;\n",
              "\n",
              "          const docLinkHtml = 'Like what you see? Visit the ' +\n",
              "            '<a target=\"_blank\" href=https://colab.research.google.com/notebooks/data_table.ipynb>data table notebook</a>'\n",
              "            + ' to learn more about interactive tables.';\n",
              "          element.innerHTML = '';\n",
              "          dataTable['output_type'] = 'display_data';\n",
              "          await google.colab.output.renderOutput(dataTable, element);\n",
              "          const docLink = document.createElement('div');\n",
              "          docLink.innerHTML = docLinkHtml;\n",
              "          element.appendChild(docLink);\n",
              "        }\n",
              "      </script>\n",
              "    </div>\n",
              "  </div>\n",
              "  "
            ]
          },
          "metadata": {},
          "execution_count": 394
        }
      ]
    },
    {
      "cell_type": "code",
      "source": [
        "df.Vehicle_Size_cat.value_counts()"
      ],
      "metadata": {
        "colab": {
          "base_uri": "https://localhost:8080/"
        },
        "id": "irWLDr6njC-6",
        "outputId": "f925b57f-9170-40ba-c3b2-078963d75b29"
      },
      "execution_count": 395,
      "outputs": [
        {
          "output_type": "execute_result",
          "data": {
            "text/plain": [
              "1    4151\n",
              "2    3989\n",
              "3    2465\n",
              "Name: Vehicle_Size_cat, dtype: int64"
            ]
          },
          "metadata": {},
          "execution_count": 395
        }
      ]
    },
    {
      "cell_type": "markdown",
      "source": [
        "##**Encoding fitur Vehicle_Style**"
      ],
      "metadata": {
        "id": "05kDUen-my51"
      }
    },
    {
      "cell_type": "markdown",
      "source": [
        "untuk fitur Vehicle_Style akan digunakan frequency encoding"
      ],
      "metadata": {
        "id": "m-fEMTUfm9_R"
      }
    },
    {
      "cell_type": "code",
      "source": [
        "freq_vs = df['Vehicle_Style'].value_counts().reset_index()\n",
        "freq_vs.rename(columns={'index': 'Vehicle_Style', 'Vehicle_Style': 'freq_Vehicle_Style'}, inplace = True)\n",
        "freq_vs['pct_Vehicle_Style'] = round((freq_vs['freq_Vehicle_Style']/freq_vs['freq_Vehicle_Style'].sum())*100,2)\n",
        "\n",
        "df = df.merge(freq_vs[['Vehicle_Style','pct_Vehicle_Style']], on='Vehicle_Style', how='inner')\n",
        "\n",
        "df = df.drop(['Vehicle_Style'], axis=1)\n",
        "\n",
        "df.head()"
      ],
      "metadata": {
        "colab": {
          "base_uri": "https://localhost:8080/",
          "height": 206
        },
        "id": "UjXoEXNOnOSz",
        "outputId": "edaeae18-a6d9-4014-cff0-704a379eceb4"
      },
      "execution_count": 396,
      "outputs": [
        {
          "output_type": "execute_result",
          "data": {
            "text/plain": [
              "   Year  Engine_HP  Number_of_Doors  city_MPG   MSRP  pct_Make  pct_Model  \\\n",
              "0  2011      335.0              2.0        19  46135      3.02       0.01   \n",
              "1  2011      300.0              2.0        20  36350      3.02       0.14   \n",
              "2  2011      230.0              2.0        18  29450      3.02       0.14   \n",
              "3  2012      230.0              2.0        18  31200      3.02       0.14   \n",
              "4  2012      300.0              2.0        20  39300      3.02       0.14   \n",
              "\n",
              "   Transmission_Type_cat  Driven_Wheels_cat  Vehicle_Size_cat  \\\n",
              "0                      3                  3                 1   \n",
              "1                      3                  3                 1   \n",
              "2                      3                  3                 1   \n",
              "3                      3                  3                 1   \n",
              "4                      3                  3                 1   \n",
              "\n",
              "   pct_Vehicle_Style  \n",
              "0                9.5  \n",
              "1                9.5  \n",
              "2                9.5  \n",
              "3                9.5  \n",
              "4                9.5  "
            ],
            "text/html": [
              "\n",
              "  <div id=\"df-eb604df0-83c0-41b0-88d5-e8fc40927ae8\">\n",
              "    <div class=\"colab-df-container\">\n",
              "      <div>\n",
              "<style scoped>\n",
              "    .dataframe tbody tr th:only-of-type {\n",
              "        vertical-align: middle;\n",
              "    }\n",
              "\n",
              "    .dataframe tbody tr th {\n",
              "        vertical-align: top;\n",
              "    }\n",
              "\n",
              "    .dataframe thead th {\n",
              "        text-align: right;\n",
              "    }\n",
              "</style>\n",
              "<table border=\"1\" class=\"dataframe\">\n",
              "  <thead>\n",
              "    <tr style=\"text-align: right;\">\n",
              "      <th></th>\n",
              "      <th>Year</th>\n",
              "      <th>Engine_HP</th>\n",
              "      <th>Number_of_Doors</th>\n",
              "      <th>city_MPG</th>\n",
              "      <th>MSRP</th>\n",
              "      <th>pct_Make</th>\n",
              "      <th>pct_Model</th>\n",
              "      <th>Transmission_Type_cat</th>\n",
              "      <th>Driven_Wheels_cat</th>\n",
              "      <th>Vehicle_Size_cat</th>\n",
              "      <th>pct_Vehicle_Style</th>\n",
              "    </tr>\n",
              "  </thead>\n",
              "  <tbody>\n",
              "    <tr>\n",
              "      <th>0</th>\n",
              "      <td>2011</td>\n",
              "      <td>335.0</td>\n",
              "      <td>2.0</td>\n",
              "      <td>19</td>\n",
              "      <td>46135</td>\n",
              "      <td>3.02</td>\n",
              "      <td>0.01</td>\n",
              "      <td>3</td>\n",
              "      <td>3</td>\n",
              "      <td>1</td>\n",
              "      <td>9.5</td>\n",
              "    </tr>\n",
              "    <tr>\n",
              "      <th>1</th>\n",
              "      <td>2011</td>\n",
              "      <td>300.0</td>\n",
              "      <td>2.0</td>\n",
              "      <td>20</td>\n",
              "      <td>36350</td>\n",
              "      <td>3.02</td>\n",
              "      <td>0.14</td>\n",
              "      <td>3</td>\n",
              "      <td>3</td>\n",
              "      <td>1</td>\n",
              "      <td>9.5</td>\n",
              "    </tr>\n",
              "    <tr>\n",
              "      <th>2</th>\n",
              "      <td>2011</td>\n",
              "      <td>230.0</td>\n",
              "      <td>2.0</td>\n",
              "      <td>18</td>\n",
              "      <td>29450</td>\n",
              "      <td>3.02</td>\n",
              "      <td>0.14</td>\n",
              "      <td>3</td>\n",
              "      <td>3</td>\n",
              "      <td>1</td>\n",
              "      <td>9.5</td>\n",
              "    </tr>\n",
              "    <tr>\n",
              "      <th>3</th>\n",
              "      <td>2012</td>\n",
              "      <td>230.0</td>\n",
              "      <td>2.0</td>\n",
              "      <td>18</td>\n",
              "      <td>31200</td>\n",
              "      <td>3.02</td>\n",
              "      <td>0.14</td>\n",
              "      <td>3</td>\n",
              "      <td>3</td>\n",
              "      <td>1</td>\n",
              "      <td>9.5</td>\n",
              "    </tr>\n",
              "    <tr>\n",
              "      <th>4</th>\n",
              "      <td>2012</td>\n",
              "      <td>300.0</td>\n",
              "      <td>2.0</td>\n",
              "      <td>20</td>\n",
              "      <td>39300</td>\n",
              "      <td>3.02</td>\n",
              "      <td>0.14</td>\n",
              "      <td>3</td>\n",
              "      <td>3</td>\n",
              "      <td>1</td>\n",
              "      <td>9.5</td>\n",
              "    </tr>\n",
              "  </tbody>\n",
              "</table>\n",
              "</div>\n",
              "      <button class=\"colab-df-convert\" onclick=\"convertToInteractive('df-eb604df0-83c0-41b0-88d5-e8fc40927ae8')\"\n",
              "              title=\"Convert this dataframe to an interactive table.\"\n",
              "              style=\"display:none;\">\n",
              "        \n",
              "  <svg xmlns=\"http://www.w3.org/2000/svg\" height=\"24px\"viewBox=\"0 0 24 24\"\n",
              "       width=\"24px\">\n",
              "    <path d=\"M0 0h24v24H0V0z\" fill=\"none\"/>\n",
              "    <path d=\"M18.56 5.44l.94 2.06.94-2.06 2.06-.94-2.06-.94-.94-2.06-.94 2.06-2.06.94zm-11 1L8.5 8.5l.94-2.06 2.06-.94-2.06-.94L8.5 2.5l-.94 2.06-2.06.94zm10 10l.94 2.06.94-2.06 2.06-.94-2.06-.94-.94-2.06-.94 2.06-2.06.94z\"/><path d=\"M17.41 7.96l-1.37-1.37c-.4-.4-.92-.59-1.43-.59-.52 0-1.04.2-1.43.59L10.3 9.45l-7.72 7.72c-.78.78-.78 2.05 0 2.83L4 21.41c.39.39.9.59 1.41.59.51 0 1.02-.2 1.41-.59l7.78-7.78 2.81-2.81c.8-.78.8-2.07 0-2.86zM5.41 20L4 18.59l7.72-7.72 1.47 1.35L5.41 20z\"/>\n",
              "  </svg>\n",
              "      </button>\n",
              "      \n",
              "  <style>\n",
              "    .colab-df-container {\n",
              "      display:flex;\n",
              "      flex-wrap:wrap;\n",
              "      gap: 12px;\n",
              "    }\n",
              "\n",
              "    .colab-df-convert {\n",
              "      background-color: #E8F0FE;\n",
              "      border: none;\n",
              "      border-radius: 50%;\n",
              "      cursor: pointer;\n",
              "      display: none;\n",
              "      fill: #1967D2;\n",
              "      height: 32px;\n",
              "      padding: 0 0 0 0;\n",
              "      width: 32px;\n",
              "    }\n",
              "\n",
              "    .colab-df-convert:hover {\n",
              "      background-color: #E2EBFA;\n",
              "      box-shadow: 0px 1px 2px rgba(60, 64, 67, 0.3), 0px 1px 3px 1px rgba(60, 64, 67, 0.15);\n",
              "      fill: #174EA6;\n",
              "    }\n",
              "\n",
              "    [theme=dark] .colab-df-convert {\n",
              "      background-color: #3B4455;\n",
              "      fill: #D2E3FC;\n",
              "    }\n",
              "\n",
              "    [theme=dark] .colab-df-convert:hover {\n",
              "      background-color: #434B5C;\n",
              "      box-shadow: 0px 1px 3px 1px rgba(0, 0, 0, 0.15);\n",
              "      filter: drop-shadow(0px 1px 2px rgba(0, 0, 0, 0.3));\n",
              "      fill: #FFFFFF;\n",
              "    }\n",
              "  </style>\n",
              "\n",
              "      <script>\n",
              "        const buttonEl =\n",
              "          document.querySelector('#df-eb604df0-83c0-41b0-88d5-e8fc40927ae8 button.colab-df-convert');\n",
              "        buttonEl.style.display =\n",
              "          google.colab.kernel.accessAllowed ? 'block' : 'none';\n",
              "\n",
              "        async function convertToInteractive(key) {\n",
              "          const element = document.querySelector('#df-eb604df0-83c0-41b0-88d5-e8fc40927ae8');\n",
              "          const dataTable =\n",
              "            await google.colab.kernel.invokeFunction('convertToInteractive',\n",
              "                                                     [key], {});\n",
              "          if (!dataTable) return;\n",
              "\n",
              "          const docLinkHtml = 'Like what you see? Visit the ' +\n",
              "            '<a target=\"_blank\" href=https://colab.research.google.com/notebooks/data_table.ipynb>data table notebook</a>'\n",
              "            + ' to learn more about interactive tables.';\n",
              "          element.innerHTML = '';\n",
              "          dataTable['output_type'] = 'display_data';\n",
              "          await google.colab.output.renderOutput(dataTable, element);\n",
              "          const docLink = document.createElement('div');\n",
              "          docLink.innerHTML = docLinkHtml;\n",
              "          element.appendChild(docLink);\n",
              "        }\n",
              "      </script>\n",
              "    </div>\n",
              "  </div>\n",
              "  "
            ]
          },
          "metadata": {},
          "execution_count": 396
        }
      ]
    },
    {
      "cell_type": "code",
      "source": [
        "df.pct_Vehicle_Style.value_counts()"
      ],
      "metadata": {
        "colab": {
          "base_uri": "https://localhost:8080/"
        },
        "id": "fRhCv3Q8nEbe",
        "outputId": "2ae8c884-b800-4ad2-a685-8184b49e4508"
      },
      "execution_count": 397,
      "outputs": [
        {
          "output_type": "execute_result",
          "data": {
            "text/plain": [
              "25.60    2715\n",
              "22.65    2402\n",
              "9.50     1007\n",
              "5.99      635\n",
              "5.85      620\n",
              "5.58      592\n",
              "5.37      569\n",
              "5.23      555\n",
              "3.82      405\n",
              "3.61      383\n",
              "3.21      340\n",
              "1.14      121\n",
              "0.86       91\n",
              "0.79       84\n",
              "0.55       58\n",
              "0.26       28\n",
              "Name: pct_Vehicle_Style, dtype: int64"
            ]
          },
          "metadata": {},
          "execution_count": 397
        }
      ]
    },
    {
      "cell_type": "markdown",
      "source": [
        "#**Scaling**"
      ],
      "metadata": {
        "id": "DbHku5pky8Zc"
      }
    },
    {
      "cell_type": "code",
      "source": [
        "sc_data = StandardScaler()\n",
        "data_std = sc_data.fit_transform(df.astype(float))"
      ],
      "metadata": {
        "id": "jGR-vlBRy79d"
      },
      "execution_count": 398,
      "outputs": []
    },
    {
      "cell_type": "markdown",
      "source": [
        "#**Modelling**"
      ],
      "metadata": {
        "id": "yxOzlEkM1NN0"
      }
    },
    {
      "cell_type": "code",
      "source": [
        "kmeans = KMeans(n_clusters=4, random_state=0).fit(data_std)\n",
        "\n",
        "df_data_std = pd.DataFrame(data=data_std, columns=list(df))\n",
        "\n",
        "df_data_std['clusters'] = kmeans.labels_\n",
        "df['clusters'] = kmeans.labels_\n",
        "\n",
        "df.head()"
      ],
      "metadata": {
        "id": "5s2XF2ce1M42",
        "colab": {
          "base_uri": "https://localhost:8080/",
          "height": 206
        },
        "outputId": "e4081d13-0327-4d63-f647-fa33c19a24b5"
      },
      "execution_count": 399,
      "outputs": [
        {
          "output_type": "execute_result",
          "data": {
            "text/plain": [
              "   Year  Engine_HP  Number_of_Doors  city_MPG   MSRP  pct_Make  pct_Model  \\\n",
              "0  2011      335.0              2.0        19  46135      3.02       0.01   \n",
              "1  2011      300.0              2.0        20  36350      3.02       0.14   \n",
              "2  2011      230.0              2.0        18  29450      3.02       0.14   \n",
              "3  2012      230.0              2.0        18  31200      3.02       0.14   \n",
              "4  2012      300.0              2.0        20  39300      3.02       0.14   \n",
              "\n",
              "   Transmission_Type_cat  Driven_Wheels_cat  Vehicle_Size_cat  \\\n",
              "0                      3                  3                 1   \n",
              "1                      3                  3                 1   \n",
              "2                      3                  3                 1   \n",
              "3                      3                  3                 1   \n",
              "4                      3                  3                 1   \n",
              "\n",
              "   pct_Vehicle_Style  clusters  \n",
              "0                9.5         3  \n",
              "1                9.5         3  \n",
              "2                9.5         3  \n",
              "3                9.5         3  \n",
              "4                9.5         3  "
            ],
            "text/html": [
              "\n",
              "  <div id=\"df-e929fe03-3f9f-4d7c-8fe1-de0b7e52b746\">\n",
              "    <div class=\"colab-df-container\">\n",
              "      <div>\n",
              "<style scoped>\n",
              "    .dataframe tbody tr th:only-of-type {\n",
              "        vertical-align: middle;\n",
              "    }\n",
              "\n",
              "    .dataframe tbody tr th {\n",
              "        vertical-align: top;\n",
              "    }\n",
              "\n",
              "    .dataframe thead th {\n",
              "        text-align: right;\n",
              "    }\n",
              "</style>\n",
              "<table border=\"1\" class=\"dataframe\">\n",
              "  <thead>\n",
              "    <tr style=\"text-align: right;\">\n",
              "      <th></th>\n",
              "      <th>Year</th>\n",
              "      <th>Engine_HP</th>\n",
              "      <th>Number_of_Doors</th>\n",
              "      <th>city_MPG</th>\n",
              "      <th>MSRP</th>\n",
              "      <th>pct_Make</th>\n",
              "      <th>pct_Model</th>\n",
              "      <th>Transmission_Type_cat</th>\n",
              "      <th>Driven_Wheels_cat</th>\n",
              "      <th>Vehicle_Size_cat</th>\n",
              "      <th>pct_Vehicle_Style</th>\n",
              "      <th>clusters</th>\n",
              "    </tr>\n",
              "  </thead>\n",
              "  <tbody>\n",
              "    <tr>\n",
              "      <th>0</th>\n",
              "      <td>2011</td>\n",
              "      <td>335.0</td>\n",
              "      <td>2.0</td>\n",
              "      <td>19</td>\n",
              "      <td>46135</td>\n",
              "      <td>3.02</td>\n",
              "      <td>0.01</td>\n",
              "      <td>3</td>\n",
              "      <td>3</td>\n",
              "      <td>1</td>\n",
              "      <td>9.5</td>\n",
              "      <td>3</td>\n",
              "    </tr>\n",
              "    <tr>\n",
              "      <th>1</th>\n",
              "      <td>2011</td>\n",
              "      <td>300.0</td>\n",
              "      <td>2.0</td>\n",
              "      <td>20</td>\n",
              "      <td>36350</td>\n",
              "      <td>3.02</td>\n",
              "      <td>0.14</td>\n",
              "      <td>3</td>\n",
              "      <td>3</td>\n",
              "      <td>1</td>\n",
              "      <td>9.5</td>\n",
              "      <td>3</td>\n",
              "    </tr>\n",
              "    <tr>\n",
              "      <th>2</th>\n",
              "      <td>2011</td>\n",
              "      <td>230.0</td>\n",
              "      <td>2.0</td>\n",
              "      <td>18</td>\n",
              "      <td>29450</td>\n",
              "      <td>3.02</td>\n",
              "      <td>0.14</td>\n",
              "      <td>3</td>\n",
              "      <td>3</td>\n",
              "      <td>1</td>\n",
              "      <td>9.5</td>\n",
              "      <td>3</td>\n",
              "    </tr>\n",
              "    <tr>\n",
              "      <th>3</th>\n",
              "      <td>2012</td>\n",
              "      <td>230.0</td>\n",
              "      <td>2.0</td>\n",
              "      <td>18</td>\n",
              "      <td>31200</td>\n",
              "      <td>3.02</td>\n",
              "      <td>0.14</td>\n",
              "      <td>3</td>\n",
              "      <td>3</td>\n",
              "      <td>1</td>\n",
              "      <td>9.5</td>\n",
              "      <td>3</td>\n",
              "    </tr>\n",
              "    <tr>\n",
              "      <th>4</th>\n",
              "      <td>2012</td>\n",
              "      <td>300.0</td>\n",
              "      <td>2.0</td>\n",
              "      <td>20</td>\n",
              "      <td>39300</td>\n",
              "      <td>3.02</td>\n",
              "      <td>0.14</td>\n",
              "      <td>3</td>\n",
              "      <td>3</td>\n",
              "      <td>1</td>\n",
              "      <td>9.5</td>\n",
              "      <td>3</td>\n",
              "    </tr>\n",
              "  </tbody>\n",
              "</table>\n",
              "</div>\n",
              "      <button class=\"colab-df-convert\" onclick=\"convertToInteractive('df-e929fe03-3f9f-4d7c-8fe1-de0b7e52b746')\"\n",
              "              title=\"Convert this dataframe to an interactive table.\"\n",
              "              style=\"display:none;\">\n",
              "        \n",
              "  <svg xmlns=\"http://www.w3.org/2000/svg\" height=\"24px\"viewBox=\"0 0 24 24\"\n",
              "       width=\"24px\">\n",
              "    <path d=\"M0 0h24v24H0V0z\" fill=\"none\"/>\n",
              "    <path d=\"M18.56 5.44l.94 2.06.94-2.06 2.06-.94-2.06-.94-.94-2.06-.94 2.06-2.06.94zm-11 1L8.5 8.5l.94-2.06 2.06-.94-2.06-.94L8.5 2.5l-.94 2.06-2.06.94zm10 10l.94 2.06.94-2.06 2.06-.94-2.06-.94-.94-2.06-.94 2.06-2.06.94z\"/><path d=\"M17.41 7.96l-1.37-1.37c-.4-.4-.92-.59-1.43-.59-.52 0-1.04.2-1.43.59L10.3 9.45l-7.72 7.72c-.78.78-.78 2.05 0 2.83L4 21.41c.39.39.9.59 1.41.59.51 0 1.02-.2 1.41-.59l7.78-7.78 2.81-2.81c.8-.78.8-2.07 0-2.86zM5.41 20L4 18.59l7.72-7.72 1.47 1.35L5.41 20z\"/>\n",
              "  </svg>\n",
              "      </button>\n",
              "      \n",
              "  <style>\n",
              "    .colab-df-container {\n",
              "      display:flex;\n",
              "      flex-wrap:wrap;\n",
              "      gap: 12px;\n",
              "    }\n",
              "\n",
              "    .colab-df-convert {\n",
              "      background-color: #E8F0FE;\n",
              "      border: none;\n",
              "      border-radius: 50%;\n",
              "      cursor: pointer;\n",
              "      display: none;\n",
              "      fill: #1967D2;\n",
              "      height: 32px;\n",
              "      padding: 0 0 0 0;\n",
              "      width: 32px;\n",
              "    }\n",
              "\n",
              "    .colab-df-convert:hover {\n",
              "      background-color: #E2EBFA;\n",
              "      box-shadow: 0px 1px 2px rgba(60, 64, 67, 0.3), 0px 1px 3px 1px rgba(60, 64, 67, 0.15);\n",
              "      fill: #174EA6;\n",
              "    }\n",
              "\n",
              "    [theme=dark] .colab-df-convert {\n",
              "      background-color: #3B4455;\n",
              "      fill: #D2E3FC;\n",
              "    }\n",
              "\n",
              "    [theme=dark] .colab-df-convert:hover {\n",
              "      background-color: #434B5C;\n",
              "      box-shadow: 0px 1px 3px 1px rgba(0, 0, 0, 0.15);\n",
              "      filter: drop-shadow(0px 1px 2px rgba(0, 0, 0, 0.3));\n",
              "      fill: #FFFFFF;\n",
              "    }\n",
              "  </style>\n",
              "\n",
              "      <script>\n",
              "        const buttonEl =\n",
              "          document.querySelector('#df-e929fe03-3f9f-4d7c-8fe1-de0b7e52b746 button.colab-df-convert');\n",
              "        buttonEl.style.display =\n",
              "          google.colab.kernel.accessAllowed ? 'block' : 'none';\n",
              "\n",
              "        async function convertToInteractive(key) {\n",
              "          const element = document.querySelector('#df-e929fe03-3f9f-4d7c-8fe1-de0b7e52b746');\n",
              "          const dataTable =\n",
              "            await google.colab.kernel.invokeFunction('convertToInteractive',\n",
              "                                                     [key], {});\n",
              "          if (!dataTable) return;\n",
              "\n",
              "          const docLinkHtml = 'Like what you see? Visit the ' +\n",
              "            '<a target=\"_blank\" href=https://colab.research.google.com/notebooks/data_table.ipynb>data table notebook</a>'\n",
              "            + ' to learn more about interactive tables.';\n",
              "          element.innerHTML = '';\n",
              "          dataTable['output_type'] = 'display_data';\n",
              "          await google.colab.output.renderOutput(dataTable, element);\n",
              "          const docLink = document.createElement('div');\n",
              "          docLink.innerHTML = docLinkHtml;\n",
              "          element.appendChild(docLink);\n",
              "        }\n",
              "      </script>\n",
              "    </div>\n",
              "  </div>\n",
              "  "
            ]
          },
          "metadata": {},
          "execution_count": 399
        }
      ]
    },
    {
      "cell_type": "code",
      "source": [
        ""
      ],
      "metadata": {
        "id": "LOT__CcZ12tF"
      },
      "execution_count": 399,
      "outputs": []
    },
    {
      "cell_type": "markdown",
      "source": [
        "#**Hyperparameter**"
      ],
      "metadata": {
        "id": "_LeVARkV5Wvd"
      }
    },
    {
      "cell_type": "markdown",
      "source": [
        "##**sum of squared error**"
      ],
      "metadata": {
        "id": "x4SQhCx55rvE"
      }
    },
    {
      "cell_type": "code",
      "source": [
        "sse = []\n",
        "for k in range(1,11):\n",
        "    kmeans = KMeans(n_clusters=k)\n",
        "    kmeans.fit(df)\n",
        "    sse.append(kmeans.inertia_)"
      ],
      "metadata": {
        "id": "_ZfSrWlT5ioa"
      },
      "execution_count": 400,
      "outputs": []
    },
    {
      "cell_type": "code",
      "source": [
        "# draw the SSE decline progression\n",
        "plt.figure(figsize = (12,8))\n",
        "plt.plot(range(1,11), sse)\n",
        "plt.xticks(range(1,11))\n",
        "plt.xlabel(\"Number of Clusters\")\n",
        "plt.ylabel(\"Sum of Squared Error\")\n",
        "plt.show()"
      ],
      "metadata": {
        "colab": {
          "base_uri": "https://localhost:8080/",
          "height": 508
        },
        "id": "zVWybdIg6H3F",
        "outputId": "23732947-2b6f-4e6e-882f-503674cd8116"
      },
      "execution_count": 401,
      "outputs": [
        {
          "output_type": "display_data",
          "data": {
            "text/plain": [
              "<Figure size 864x576 with 1 Axes>"
            ],
            "image/png": "[encoded data removed]"
          },
          "metadata": {
            "needs_background": "light"
          }
        }
      ]
    },
    {
      "cell_type": "markdown",
      "source": [
        "elbow point ada di K=3"
      ],
      "metadata": {
        "id": "5FZOyzl96hd1"
      }
    },
    {
      "cell_type": "markdown",
      "source": [
        "##**K-Means**"
      ],
      "metadata": {
        "id": "G03YtD_B0RHR"
      }
    },
    {
      "cell_type": "code",
      "source": [
        "# run kmeans with the optimal K\n",
        "kmeans = KMeans(n_clusters=3)\n",
        "kmeans.fit(df)\n",
        "\n",
        "# clusters' centroid analysis\n",
        "df['cluster'] = kmeans.labels_\n",
        "centroid_df = df.groupby('cluster')[['pct_Make', 'pct_Model', 'Year', \n",
        "                                     'Engine_HP', 'Transmission_Type_cat', \n",
        "                                     'Driven_Wheels_cat', 'Number_of_Doors','Vehicle_Size_cat',\n",
        "                                     'city_MPG']].agg({'pct_Make': 'nunique',\n",
        "                                                       'pct_Model': 'nunique', \n",
        "                                                       'Year':'mean',\n",
        "                                                       'Engine_HP': 'mean', \n",
        "                                                       'Transmission_Type_cat':'mean',\n",
        "                                                       'Driven_Wheels_cat': 'mean', \n",
        "                                                       'Number_of_Doors': 'mean',\n",
        "                                                       'Vehicle_Size_cat':'mean',\n",
        "                                                       'city_MPG':'mean'}).reset_index()\n",
        "centroid_df = centroid_df.rename(columns = {'pct_Make':'pct_Model'})\n",
        "centroid_df"
      ],
      "metadata": {
        "colab": {
          "base_uri": "https://localhost:8080/",
          "height": 144
        },
        "id": "6X59dYXv6mAX",
        "outputId": "79efd1db-0045-451e-f741-aa1175eac02a"
      },
      "execution_count": 402,
      "outputs": [
        {
          "output_type": "execute_result",
          "data": {
            "text/plain": [
              "   cluster  pct_Model  pct_Model         Year   Engine_HP  \\\n",
              "0        0         37         58  2013.899044  288.693943   \n",
              "1        1         33         54  2007.198219  178.358158   \n",
              "2        2         20         27  2014.407705  444.207063   \n",
              "\n",
              "   Transmission_Type_cat  Driven_Wheels_cat  Number_of_Doors  \\\n",
              "0               3.953879           2.482465         3.621467   \n",
              "1               3.639189           3.303203         3.400606   \n",
              "2               3.914928           2.150883         3.085072   \n",
              "\n",
              "   Vehicle_Size_cat   city_MPG  \n",
              "0          2.141339  18.327524  \n",
              "1          1.541785  20.673678  \n",
              "2          2.107544  15.438202  "
            ],
            "text/html": [
              "\n",
              "  <div id=\"df-1bbae9dc-73e1-4cbf-be47-5bd290eea31b\">\n",
              "    <div class=\"colab-df-container\">\n",
              "      <div>\n",
              "<style scoped>\n",
              "    .dataframe tbody tr th:only-of-type {\n",
              "        vertical-align: middle;\n",
              "    }\n",
              "\n",
              "    .dataframe tbody tr th {\n",
              "        vertical-align: top;\n",
              "    }\n",
              "\n",
              "    .dataframe thead th {\n",
              "        text-align: right;\n",
              "    }\n",
              "</style>\n",
              "<table border=\"1\" class=\"dataframe\">\n",
              "  <thead>\n",
              "    <tr style=\"text-align: right;\">\n",
              "      <th></th>\n",
              "      <th>cluster</th>\n",
              "      <th>pct_Model</th>\n",
              "      <th>pct_Model</th>\n",
              "      <th>Year</th>\n",
              "      <th>Engine_HP</th>\n",
              "      <th>Transmission_Type_cat</th>\n",
              "      <th>Driven_Wheels_cat</th>\n",
              "      <th>Number_of_Doors</th>\n",
              "      <th>Vehicle_Size_cat</th>\n",
              "      <th>city_MPG</th>\n",
              "    </tr>\n",
              "  </thead>\n",
              "  <tbody>\n",
              "    <tr>\n",
              "      <th>0</th>\n",
              "      <td>0</td>\n",
              "      <td>37</td>\n",
              "      <td>58</td>\n",
              "      <td>2013.899044</td>\n",
              "      <td>288.693943</td>\n",
              "      <td>3.953879</td>\n",
              "      <td>2.482465</td>\n",
              "      <td>3.621467</td>\n",
              "      <td>2.141339</td>\n",
              "      <td>18.327524</td>\n",
              "    </tr>\n",
              "    <tr>\n",
              "      <th>1</th>\n",
              "      <td>1</td>\n",
              "      <td>33</td>\n",
              "      <td>54</td>\n",
              "      <td>2007.198219</td>\n",
              "      <td>178.358158</td>\n",
              "      <td>3.639189</td>\n",
              "      <td>3.303203</td>\n",
              "      <td>3.400606</td>\n",
              "      <td>1.541785</td>\n",
              "      <td>20.673678</td>\n",
              "    </tr>\n",
              "    <tr>\n",
              "      <th>2</th>\n",
              "      <td>2</td>\n",
              "      <td>20</td>\n",
              "      <td>27</td>\n",
              "      <td>2014.407705</td>\n",
              "      <td>444.207063</td>\n",
              "      <td>3.914928</td>\n",
              "      <td>2.150883</td>\n",
              "      <td>3.085072</td>\n",
              "      <td>2.107544</td>\n",
              "      <td>15.438202</td>\n",
              "    </tr>\n",
              "  </tbody>\n",
              "</table>\n",
              "</div>\n",
              "      <button class=\"colab-df-convert\" onclick=\"convertToInteractive('df-1bbae9dc-73e1-4cbf-be47-5bd290eea31b')\"\n",
              "              title=\"Convert this dataframe to an interactive table.\"\n",
              "              style=\"display:none;\">\n",
              "        \n",
              "  <svg xmlns=\"http://www.w3.org/2000/svg\" height=\"24px\"viewBox=\"0 0 24 24\"\n",
              "       width=\"24px\">\n",
              "    <path d=\"M0 0h24v24H0V0z\" fill=\"none\"/>\n",
              "    <path d=\"M18.56 5.44l.94 2.06.94-2.06 2.06-.94-2.06-.94-.94-2.06-.94 2.06-2.06.94zm-11 1L8.5 8.5l.94-2.06 2.06-.94-2.06-.94L8.5 2.5l-.94 2.06-2.06.94zm10 10l.94 2.06.94-2.06 2.06-.94-2.06-.94-.94-2.06-.94 2.06-2.06.94z\"/><path d=\"M17.41 7.96l-1.37-1.37c-.4-.4-.92-.59-1.43-.59-.52 0-1.04.2-1.43.59L10.3 9.45l-7.72 7.72c-.78.78-.78 2.05 0 2.83L4 21.41c.39.39.9.59 1.41.59.51 0 1.02-.2 1.41-.59l7.78-7.78 2.81-2.81c.8-.78.8-2.07 0-2.86zM5.41 20L4 18.59l7.72-7.72 1.47 1.35L5.41 20z\"/>\n",
              "  </svg>\n",
              "      </button>\n",
              "      \n",
              "  <style>\n",
              "    .colab-df-container {\n",
              "      display:flex;\n",
              "      flex-wrap:wrap;\n",
              "      gap: 12px;\n",
              "    }\n",
              "\n",
              "    .colab-df-convert {\n",
              "      background-color: #E8F0FE;\n",
              "      border: none;\n",
              "      border-radius: 50%;\n",
              "      cursor: pointer;\n",
              "      display: none;\n",
              "      fill: #1967D2;\n",
              "      height: 32px;\n",
              "      padding: 0 0 0 0;\n",
              "      width: 32px;\n",
              "    }\n",
              "\n",
              "    .colab-df-convert:hover {\n",
              "      background-color: #E2EBFA;\n",
              "      box-shadow: 0px 1px 2px rgba(60, 64, 67, 0.3), 0px 1px 3px 1px rgba(60, 64, 67, 0.15);\n",
              "      fill: #174EA6;\n",
              "    }\n",
              "\n",
              "    [theme=dark] .colab-df-convert {\n",
              "      background-color: #3B4455;\n",
              "      fill: #D2E3FC;\n",
              "    }\n",
              "\n",
              "    [theme=dark] .colab-df-convert:hover {\n",
              "      background-color: #434B5C;\n",
              "      box-shadow: 0px 1px 3px 1px rgba(0, 0, 0, 0.15);\n",
              "      filter: drop-shadow(0px 1px 2px rgba(0, 0, 0, 0.3));\n",
              "      fill: #FFFFFF;\n",
              "    }\n",
              "  </style>\n",
              "\n",
              "      <script>\n",
              "        const buttonEl =\n",
              "          document.querySelector('#df-1bbae9dc-73e1-4cbf-be47-5bd290eea31b button.colab-df-convert');\n",
              "        buttonEl.style.display =\n",
              "          google.colab.kernel.accessAllowed ? 'block' : 'none';\n",
              "\n",
              "        async function convertToInteractive(key) {\n",
              "          const element = document.querySelector('#df-1bbae9dc-73e1-4cbf-be47-5bd290eea31b');\n",
              "          const dataTable =\n",
              "            await google.colab.kernel.invokeFunction('convertToInteractive',\n",
              "                                                     [key], {});\n",
              "          if (!dataTable) return;\n",
              "\n",
              "          const docLinkHtml = 'Like what you see? Visit the ' +\n",
              "            '<a target=\"_blank\" href=https://colab.research.google.com/notebooks/data_table.ipynb>data table notebook</a>'\n",
              "            + ' to learn more about interactive tables.';\n",
              "          element.innerHTML = '';\n",
              "          dataTable['output_type'] = 'display_data';\n",
              "          await google.colab.output.renderOutput(dataTable, element);\n",
              "          const docLink = document.createElement('div');\n",
              "          docLink.innerHTML = docLinkHtml;\n",
              "          element.appendChild(docLink);\n",
              "        }\n",
              "      </script>\n",
              "    </div>\n",
              "  </div>\n",
              "  "
            ]
          },
          "metadata": {},
          "execution_count": 402
        }
      ]
    },
    {
      "cell_type": "markdown",
      "source": [
        "##**Insight**"
      ],
      "metadata": {
        "id": "nTngDBQR_6cm"
      }
    },
    {
      "cell_type": "markdown",
      "source": [
        "setelah menyelesaikan semua proses, berikut insight yang bisa saya baca dari dataset ini. untuk clustering pada dataset ini yang terbaik dibagi menjadi 3 cluster. untuk karakteristik masing-masing cluster sebagai berkut : "
      ],
      "metadata": {
        "id": "sJCqxN05__N7"
      }
    },
    {
      "cell_type": "markdown",
      "source": [
        "**cluster 0 : PREMIUM CAR** \n",
        "\n",
        "karakteristik : memiliki tenaga mesin sedang cenderung besar dengan konsumsi BBM tidak terlalu boros, sehingga masih nyaman untuk dipakai sehari-hari. memiliki ukuran mobil sedang ke besar dan memiliki penggerak roda 4wd atau rwd. karakter seperti ini biasanya berupa mobil keluarga mewah berukuran besar yang juga memiliki tenaga lumayan besar. \n",
        "\n",
        "**cluster 1 : CITY & COMPACT CAR**\n",
        "\n",
        "karakteristik : memiliki tenaga mesin paling rendah supaya konsumsi BBM irit, biasanya memiliki penggerak roda rwd atau fwd, dan ukuran mobil kecil untuk commuter di dalam kota.\n",
        "\n",
        "**cluster 2 : SPORT CAR & BIG SUV**\n",
        "\n",
        "karakteristik : memiliki tenaga mesin besar, dengan penggerak roda awd atau 4wd, biasanya memiliki jumlah pintu sedikit, tidak mengutamakan efisiensi BBM tapi mengutamakan performa tinggi baik untuk offroad atau onroad. ukuran mobil midsize-large."
      ],
      "metadata": {
        "id": "-uq7f-KwfSUg"
      }
    }
  ]
}